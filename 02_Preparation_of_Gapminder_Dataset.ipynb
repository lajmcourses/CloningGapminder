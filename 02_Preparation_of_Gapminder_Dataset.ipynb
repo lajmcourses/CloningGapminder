{
 "cells": [
  {
   "cell_type": "markdown",
   "id": "39bd3f94",
   "metadata": {},
   "source": [
    "<div style=\"display:block; margin-bottom:50px\">\n",
    "<h1 style=\"margin-bottom:25px; margin-top: 25px; font-size:3rem;color:#4c76ce;text-align:center;\">\n",
    "    Praktinis Projektas: Gapminder Duomenų Vizualizacija</h1>\n",
    "    \n",
    "<h2 style=\"margin-bottom: 25px;font-size:2.5rem;text-align:center;color:#8d1c1a;\">\n",
    "    2. Duomenų paruošimas Gapminder vizualizacijai\n",
    "    </h2>\n",
    "       \n",
    "<img src=\"https://raw.githubusercontent.com/lajmcourses/Images/master/bokeh.png\"\n",
    "     style=\"position:absolute;top:5px;left:25px;height:150px;width:auto;margin-bottom:35px;\">\n",
    "</div>"
   ]
  },
  {
   "cell_type": "code",
   "execution_count": 6,
   "id": "d758a0f1",
   "metadata": {},
   "outputs": [],
   "source": [
    "import pandas as pd\n",
    "import numpy as np\n",
    "\n",
    "import os"
   ]
  },
  {
   "cell_type": "markdown",
   "id": "309566af",
   "metadata": {},
   "source": [
    "## Duomenų struktūra Gapminder vizualizacijai"
   ]
  },
  {
   "cell_type": "code",
   "execution_count": 7,
   "id": "fb2e67f3",
   "metadata": {},
   "outputs": [
    {
     "data": {
      "text/html": [
       "<div>\n",
       "<style scoped>\n",
       "    .dataframe tbody tr th:only-of-type {\n",
       "        vertical-align: middle;\n",
       "    }\n",
       "\n",
       "    .dataframe tbody tr th {\n",
       "        vertical-align: top;\n",
       "    }\n",
       "\n",
       "    .dataframe thead th {\n",
       "        text-align: right;\n",
       "    }\n",
       "</style>\n",
       "<table border=\"1\" class=\"dataframe\">\n",
       "  <thead>\n",
       "    <tr style=\"text-align: right;\">\n",
       "      <th></th>\n",
       "      <th>Country Name</th>\n",
       "      <th>Country Code</th>\n",
       "      <th>Continent</th>\n",
       "      <th>Year</th>\n",
       "      <th>Fertility</th>\n",
       "      <th>Life Expectancy</th>\n",
       "      <th>Population</th>\n",
       "      <th>Circle Size</th>\n",
       "      <th>Circle Color</th>\n",
       "    </tr>\n",
       "  </thead>\n",
       "  <tbody>\n",
       "    <tr>\n",
       "      <th>0</th>\n",
       "      <td>Afghanistan</td>\n",
       "      <td>AFG</td>\n",
       "      <td>Asia</td>\n",
       "      <td>1960</td>\n",
       "      <td>7.45</td>\n",
       "      <td>32.446</td>\n",
       "      <td>8996967</td>\n",
       "      <td>9</td>\n",
       "      <td>coral</td>\n",
       "    </tr>\n",
       "    <tr>\n",
       "      <th>1</th>\n",
       "      <td>Afghanistan</td>\n",
       "      <td>AFG</td>\n",
       "      <td>Asia</td>\n",
       "      <td>1961</td>\n",
       "      <td>7.45</td>\n",
       "      <td>32.962</td>\n",
       "      <td>9169406</td>\n",
       "      <td>10</td>\n",
       "      <td>coral</td>\n",
       "    </tr>\n",
       "    <tr>\n",
       "      <th>2</th>\n",
       "      <td>Afghanistan</td>\n",
       "      <td>AFG</td>\n",
       "      <td>Asia</td>\n",
       "      <td>1962</td>\n",
       "      <td>7.45</td>\n",
       "      <td>33.471</td>\n",
       "      <td>9351442</td>\n",
       "      <td>10</td>\n",
       "      <td>coral</td>\n",
       "    </tr>\n",
       "    <tr>\n",
       "      <th>3</th>\n",
       "      <td>Afghanistan</td>\n",
       "      <td>AFG</td>\n",
       "      <td>Asia</td>\n",
       "      <td>1963</td>\n",
       "      <td>7.45</td>\n",
       "      <td>33.971</td>\n",
       "      <td>9543200</td>\n",
       "      <td>10</td>\n",
       "      <td>coral</td>\n",
       "    </tr>\n",
       "    <tr>\n",
       "      <th>4</th>\n",
       "      <td>Afghanistan</td>\n",
       "      <td>AFG</td>\n",
       "      <td>Asia</td>\n",
       "      <td>1964</td>\n",
       "      <td>7.45</td>\n",
       "      <td>34.463</td>\n",
       "      <td>9744772</td>\n",
       "      <td>10</td>\n",
       "      <td>coral</td>\n",
       "    </tr>\n",
       "  </tbody>\n",
       "</table>\n",
       "</div>"
      ],
      "text/plain": [
       "  Country Name Country Code Continent  Year  Fertility  Life Expectancy  \\\n",
       "0  Afghanistan          AFG      Asia  1960       7.45           32.446   \n",
       "1  Afghanistan          AFG      Asia  1961       7.45           32.962   \n",
       "2  Afghanistan          AFG      Asia  1962       7.45           33.471   \n",
       "3  Afghanistan          AFG      Asia  1963       7.45           33.971   \n",
       "4  Afghanistan          AFG      Asia  1964       7.45           34.463   \n",
       "\n",
       "   Population  Circle Size Circle Color  \n",
       "0     8996967            9        coral  \n",
       "1     9169406           10        coral  \n",
       "2     9351442           10        coral  \n",
       "3     9543200           10        coral  \n",
       "4     9744772           10        coral  "
      ]
     },
     "execution_count": 7,
     "metadata": {},
     "output_type": "execute_result"
    }
   ],
   "source": [
    "# Gapminder duomenų struktūra\n",
    "\n",
    "target_data_structure = pd.read_csv(\"data/target_data_structure.csv\")\n",
    "target_data_structure"
   ]
  },
  {
   "cell_type": "code",
   "execution_count": null,
   "id": "8f0efb51",
   "metadata": {},
   "outputs": [],
   "source": []
  }
 ],
 "metadata": {
  "kernelspec": {
   "display_name": "Python 3 (ipykernel)",
   "language": "python",
   "name": "python3"
  },
  "language_info": {
   "codemirror_mode": {
    "name": "ipython",
    "version": 3
   },
   "file_extension": ".py",
   "mimetype": "text/x-python",
   "name": "python",
   "nbconvert_exporter": "python",
   "pygments_lexer": "ipython3",
   "version": "3.10.1"
  }
 },
 "nbformat": 4,
 "nbformat_minor": 5
}
