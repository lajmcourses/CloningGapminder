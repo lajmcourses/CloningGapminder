{
 "cells": [
  {
   "cell_type": "markdown",
   "id": "d9c5b999",
   "metadata": {},
   "source": [
    "<div style=\"display:block; margin-bottom:50px\">\n",
    "<h1 style=\"margin-bottom:25px; font-size:3.5rem;color:#4c76ce;text-align:center;\">\n",
    "    Python Bokeh Data Visualization Tutorial</h1>\n",
    "    \n",
    "<h2 style=\"margin-bottom: 25px;font-size:2.5rem;text-align:center;color:#8d1c1a;\">\n",
    "    Making Iteractions: Adding Widgets</h2>\n",
    "       \n",
    "<img src=\"https://raw.githubusercontent.com/lajmcourses/Images/master/bokeh.png\"\n",
    "     style=\"position:absolute;top:5px;left:25px;height:150px;width:auto;margin-bottom:35px;\">\n",
    "</div>"
   ]
  },
  {
   "cell_type": "markdown",
   "id": "8e68cccb",
   "metadata": {},
   "source": [
    "# Adding Widgets\n",
    "\n",
    "Widgets are interactive controls that can be added to Bokeh applications to provide a front end user interface to a visualization. They can drive new computations, update plots, and connect to other programmatic functionality. When used with the Bokeh server, widgets can run arbitrary Python code, enabling complex applications. Widgets can also be used without the Bokeh server in standalone HTML documents through the browser’s JavaScript runtime."
   ]
  },
  {
   "cell_type": "markdown",
   "id": "a2e29ef8",
   "metadata": {},
   "source": [
    "## 1. Callbacks\n",
    "\n",
    "To use widgets, you must add them to your document and define their callbacks. Widgets can be added directly to the document root or nested inside a layout. There are two ways to use a widget’s functionality:\n",
    "\n",
    "    1. A CustomJS callback (see JavaScript callbacks). This approach will work in standalone HTML documents or Bokeh server apps.\n",
    "\n",
    "    2. Use bokeh serve to start a Bokeh server and set up event handlers with .on_change (or for some widgets, .on_click).\n",
    "    \n",
    "All widgets have an **.on_change()** method that takes an attribute name and one or more event handlers as parameters. These handlers are expected to have the function signature, **(attr, old, new)**, where attr refers to the changed attribute’s name, and old and new refer to the previous and updated values of the attribute.    \n",
    "\n",
    "**Widget Code Example**\n",
    "    \n",
    "    def my_text_input_handler(attr, old, new):\n",
    "        print(\"Previous label: \" + old)\n",
    "        print(\"Updated label: \" + new)\n",
    "\n",
    "    text_input = TextInput(value=\"default\", title=\"Label:\")\n",
    "    text_input.on_change(\"value\", my_text_input_handler)\n",
    "    \n",
    "Additionally, some widgets, including the button, dropdown, and checkbox, have an **.on_click()** method that takes an event handler as its only parameter. For a plain Button, this handler is called without parameters. For the other widgets with **.on_click()**, the handler is passed the new attribute value.\n",
    "\n",
    "**Radio Button Code Example**\n",
    "\n",
    "    def my_radio_handler(new):\n",
    "        print('Radio button option ' + str(new) + ' selected.')\n",
    "\n",
    "    radio_group = RadioGroup(labels=[\"Option 1\", \"Option 2\", \"Option 3\"], active=0)\n",
    "    radio_group.on_click(my_radio_handler)\n",
    "\n",
    "Bokeh provides a simple default set of widgets. Users can also create their own custom widgets."
   ]
  },
  {
   "cell_type": "markdown",
   "id": "18e4363c",
   "metadata": {},
   "source": [
    "## 2. Examples\n"
   ]
  },
  {
   "cell_type": "code",
   "execution_count": 98,
   "id": "1ded17d4",
   "metadata": {},
   "outputs": [
    {
     "data": {
      "text/html": [
       "\n",
       "    <div class=\"bk-root\">\n",
       "        <a href=\"https://bokeh.org\" target=\"_blank\" class=\"bk-logo bk-logo-small bk-logo-notebook\"></a>\n",
       "        <span id=\"6239\">Loading BokehJS ...</span>\n",
       "    </div>"
      ]
     },
     "metadata": {},
     "output_type": "display_data"
    },
    {
     "data": {
      "application/javascript": [
       "\n",
       "(function(root) {\n",
       "  function now() {\n",
       "    return new Date();\n",
       "  }\n",
       "\n",
       "  const force = true;\n",
       "\n",
       "  if (typeof root._bokeh_onload_callbacks === \"undefined\" || force === true) {\n",
       "    root._bokeh_onload_callbacks = [];\n",
       "    root._bokeh_is_loading = undefined;\n",
       "  }\n",
       "\n",
       "  const JS_MIME_TYPE = 'application/javascript';\n",
       "  const HTML_MIME_TYPE = 'text/html';\n",
       "  const EXEC_MIME_TYPE = 'application/vnd.bokehjs_exec.v0+json';\n",
       "  const CLASS_NAME = 'output_bokeh rendered_html';\n",
       "\n",
       "  /**\n",
       "   * Render data to the DOM node\n",
       "   */\n",
       "  function render(props, node) {\n",
       "    const script = document.createElement(\"script\");\n",
       "    node.appendChild(script);\n",
       "  }\n",
       "\n",
       "  /**\n",
       "   * Handle when an output is cleared or removed\n",
       "   */\n",
       "  function handleClearOutput(event, handle) {\n",
       "    const cell = handle.cell;\n",
       "\n",
       "    const id = cell.output_area._bokeh_element_id;\n",
       "    const server_id = cell.output_area._bokeh_server_id;\n",
       "    // Clean up Bokeh references\n",
       "    if (id != null && id in Bokeh.index) {\n",
       "      Bokeh.index[id].model.document.clear();\n",
       "      delete Bokeh.index[id];\n",
       "    }\n",
       "\n",
       "    if (server_id !== undefined) {\n",
       "      // Clean up Bokeh references\n",
       "      const cmd_clean = \"from bokeh.io.state import curstate; print(curstate().uuid_to_server['\" + server_id + \"'].get_sessions()[0].document.roots[0]._id)\";\n",
       "      cell.notebook.kernel.execute(cmd_clean, {\n",
       "        iopub: {\n",
       "          output: function(msg) {\n",
       "            const id = msg.content.text.trim();\n",
       "            if (id in Bokeh.index) {\n",
       "              Bokeh.index[id].model.document.clear();\n",
       "              delete Bokeh.index[id];\n",
       "            }\n",
       "          }\n",
       "        }\n",
       "      });\n",
       "      // Destroy server and session\n",
       "      const cmd_destroy = \"import bokeh.io.notebook as ion; ion.destroy_server('\" + server_id + \"')\";\n",
       "      cell.notebook.kernel.execute(cmd_destroy);\n",
       "    }\n",
       "  }\n",
       "\n",
       "  /**\n",
       "   * Handle when a new output is added\n",
       "   */\n",
       "  function handleAddOutput(event, handle) {\n",
       "    const output_area = handle.output_area;\n",
       "    const output = handle.output;\n",
       "\n",
       "    // limit handleAddOutput to display_data with EXEC_MIME_TYPE content only\n",
       "    if ((output.output_type != \"display_data\") || (!Object.prototype.hasOwnProperty.call(output.data, EXEC_MIME_TYPE))) {\n",
       "      return\n",
       "    }\n",
       "\n",
       "    const toinsert = output_area.element.find(\".\" + CLASS_NAME.split(' ')[0]);\n",
       "\n",
       "    if (output.metadata[EXEC_MIME_TYPE][\"id\"] !== undefined) {\n",
       "      toinsert[toinsert.length - 1].firstChild.textContent = output.data[JS_MIME_TYPE];\n",
       "      // store reference to embed id on output_area\n",
       "      output_area._bokeh_element_id = output.metadata[EXEC_MIME_TYPE][\"id\"];\n",
       "    }\n",
       "    if (output.metadata[EXEC_MIME_TYPE][\"server_id\"] !== undefined) {\n",
       "      const bk_div = document.createElement(\"div\");\n",
       "      bk_div.innerHTML = output.data[HTML_MIME_TYPE];\n",
       "      const script_attrs = bk_div.children[0].attributes;\n",
       "      for (let i = 0; i < script_attrs.length; i++) {\n",
       "        toinsert[toinsert.length - 1].firstChild.setAttribute(script_attrs[i].name, script_attrs[i].value);\n",
       "        toinsert[toinsert.length - 1].firstChild.textContent = bk_div.children[0].textContent\n",
       "      }\n",
       "      // store reference to server id on output_area\n",
       "      output_area._bokeh_server_id = output.metadata[EXEC_MIME_TYPE][\"server_id\"];\n",
       "    }\n",
       "  }\n",
       "\n",
       "  function register_renderer(events, OutputArea) {\n",
       "\n",
       "    function append_mime(data, metadata, element) {\n",
       "      // create a DOM node to render to\n",
       "      const toinsert = this.create_output_subarea(\n",
       "        metadata,\n",
       "        CLASS_NAME,\n",
       "        EXEC_MIME_TYPE\n",
       "      );\n",
       "      this.keyboard_manager.register_events(toinsert);\n",
       "      // Render to node\n",
       "      const props = {data: data, metadata: metadata[EXEC_MIME_TYPE]};\n",
       "      render(props, toinsert[toinsert.length - 1]);\n",
       "      element.append(toinsert);\n",
       "      return toinsert\n",
       "    }\n",
       "\n",
       "    /* Handle when an output is cleared or removed */\n",
       "    events.on('clear_output.CodeCell', handleClearOutput);\n",
       "    events.on('delete.Cell', handleClearOutput);\n",
       "\n",
       "    /* Handle when a new output is added */\n",
       "    events.on('output_added.OutputArea', handleAddOutput);\n",
       "\n",
       "    /**\n",
       "     * Register the mime type and append_mime function with output_area\n",
       "     */\n",
       "    OutputArea.prototype.register_mime_type(EXEC_MIME_TYPE, append_mime, {\n",
       "      /* Is output safe? */\n",
       "      safe: true,\n",
       "      /* Index of renderer in `output_area.display_order` */\n",
       "      index: 0\n",
       "    });\n",
       "  }\n",
       "\n",
       "  // register the mime type if in Jupyter Notebook environment and previously unregistered\n",
       "  if (root.Jupyter !== undefined) {\n",
       "    const events = require('base/js/events');\n",
       "    const OutputArea = require('notebook/js/outputarea').OutputArea;\n",
       "\n",
       "    if (OutputArea.prototype.mime_types().indexOf(EXEC_MIME_TYPE) == -1) {\n",
       "      register_renderer(events, OutputArea);\n",
       "    }\n",
       "  }\n",
       "\n",
       "  \n",
       "  if (typeof (root._bokeh_timeout) === \"undefined\" || force === true) {\n",
       "    root._bokeh_timeout = Date.now() + 5000;\n",
       "    root._bokeh_failed_load = false;\n",
       "  }\n",
       "\n",
       "  const NB_LOAD_WARNING = {'data': {'text/html':\n",
       "     \"<div style='background-color: #fdd'>\\n\"+\n",
       "     \"<p>\\n\"+\n",
       "     \"BokehJS does not appear to have successfully loaded. If loading BokehJS from CDN, this \\n\"+\n",
       "     \"may be due to a slow or bad network connection. Possible fixes:\\n\"+\n",
       "     \"</p>\\n\"+\n",
       "     \"<ul>\\n\"+\n",
       "     \"<li>re-rerun `output_notebook()` to attempt to load from CDN again, or</li>\\n\"+\n",
       "     \"<li>use INLINE resources instead, as so:</li>\\n\"+\n",
       "     \"</ul>\\n\"+\n",
       "     \"<code>\\n\"+\n",
       "     \"from bokeh.resources import INLINE\\n\"+\n",
       "     \"output_notebook(resources=INLINE)\\n\"+\n",
       "     \"</code>\\n\"+\n",
       "     \"</div>\"}};\n",
       "\n",
       "  function display_loaded() {\n",
       "    const el = document.getElementById(\"6239\");\n",
       "    if (el != null) {\n",
       "      el.textContent = \"BokehJS is loading...\";\n",
       "    }\n",
       "    if (root.Bokeh !== undefined) {\n",
       "      if (el != null) {\n",
       "        el.textContent = \"BokehJS \" + root.Bokeh.version + \" successfully loaded.\";\n",
       "      }\n",
       "    } else if (Date.now() < root._bokeh_timeout) {\n",
       "      setTimeout(display_loaded, 100)\n",
       "    }\n",
       "  }\n",
       "\n",
       "\n",
       "  function run_callbacks() {\n",
       "    try {\n",
       "      root._bokeh_onload_callbacks.forEach(function(callback) {\n",
       "        if (callback != null)\n",
       "          callback();\n",
       "      });\n",
       "    } finally {\n",
       "      delete root._bokeh_onload_callbacks\n",
       "    }\n",
       "    console.debug(\"Bokeh: all callbacks have finished\");\n",
       "  }\n",
       "\n",
       "  function load_libs(css_urls, js_urls, callback) {\n",
       "    if (css_urls == null) css_urls = [];\n",
       "    if (js_urls == null) js_urls = [];\n",
       "\n",
       "    root._bokeh_onload_callbacks.push(callback);\n",
       "    if (root._bokeh_is_loading > 0) {\n",
       "      console.debug(\"Bokeh: BokehJS is being loaded, scheduling callback at\", now());\n",
       "      return null;\n",
       "    }\n",
       "    if (js_urls == null || js_urls.length === 0) {\n",
       "      run_callbacks();\n",
       "      return null;\n",
       "    }\n",
       "    console.debug(\"Bokeh: BokehJS not loaded, scheduling load and callback at\", now());\n",
       "    root._bokeh_is_loading = css_urls.length + js_urls.length;\n",
       "\n",
       "    function on_load() {\n",
       "      root._bokeh_is_loading--;\n",
       "      if (root._bokeh_is_loading === 0) {\n",
       "        console.debug(\"Bokeh: all BokehJS libraries/stylesheets loaded\");\n",
       "        run_callbacks()\n",
       "      }\n",
       "    }\n",
       "\n",
       "    function on_error(url) {\n",
       "      console.error(\"failed to load \" + url);\n",
       "    }\n",
       "\n",
       "    for (let i = 0; i < css_urls.length; i++) {\n",
       "      const url = css_urls[i];\n",
       "      const element = document.createElement(\"link\");\n",
       "      element.onload = on_load;\n",
       "      element.onerror = on_error.bind(null, url);\n",
       "      element.rel = \"stylesheet\";\n",
       "      element.type = \"text/css\";\n",
       "      element.href = url;\n",
       "      console.debug(\"Bokeh: injecting link tag for BokehJS stylesheet: \", url);\n",
       "      document.body.appendChild(element);\n",
       "    }\n",
       "\n",
       "    for (let i = 0; i < js_urls.length; i++) {\n",
       "      const url = js_urls[i];\n",
       "      const element = document.createElement('script');\n",
       "      element.onload = on_load;\n",
       "      element.onerror = on_error.bind(null, url);\n",
       "      element.async = false;\n",
       "      element.src = url;\n",
       "      console.debug(\"Bokeh: injecting script tag for BokehJS library: \", url);\n",
       "      document.head.appendChild(element);\n",
       "    }\n",
       "  };\n",
       "\n",
       "  function inject_raw_css(css) {\n",
       "    const element = document.createElement(\"style\");\n",
       "    element.appendChild(document.createTextNode(css));\n",
       "    document.body.appendChild(element);\n",
       "  }\n",
       "\n",
       "  \n",
       "  const js_urls = [\"https://cdn.bokeh.org/bokeh/release/bokeh-2.4.2.min.js\", \"https://cdn.bokeh.org/bokeh/release/bokeh-gl-2.4.2.min.js\", \"https://cdn.bokeh.org/bokeh/release/bokeh-widgets-2.4.2.min.js\", \"https://cdn.bokeh.org/bokeh/release/bokeh-tables-2.4.2.min.js\", \"https://cdn.bokeh.org/bokeh/release/bokeh-mathjax-2.4.2.min.js\"];\n",
       "  const css_urls = [];\n",
       "  \n",
       "\n",
       "  const inline_js = [\n",
       "    function(Bokeh) {\n",
       "      Bokeh.set_log_level(\"info\");\n",
       "    },\n",
       "    function(Bokeh) {\n",
       "    \n",
       "    \n",
       "    }\n",
       "  ];\n",
       "\n",
       "  function run_inline_js() {\n",
       "    \n",
       "    if (root.Bokeh !== undefined || force === true) {\n",
       "      \n",
       "    for (let i = 0; i < inline_js.length; i++) {\n",
       "      inline_js[i].call(root, root.Bokeh);\n",
       "    }\n",
       "    if (force === true) {\n",
       "        display_loaded();\n",
       "      }} else if (Date.now() < root._bokeh_timeout) {\n",
       "      setTimeout(run_inline_js, 100);\n",
       "    } else if (!root._bokeh_failed_load) {\n",
       "      console.log(\"Bokeh: BokehJS failed to load within specified timeout.\");\n",
       "      root._bokeh_failed_load = true;\n",
       "    } else if (force !== true) {\n",
       "      const cell = $(document.getElementById(\"6239\")).parents('.cell').data().cell;\n",
       "      cell.output_area.append_execute_result(NB_LOAD_WARNING)\n",
       "    }\n",
       "\n",
       "  }\n",
       "\n",
       "  if (root._bokeh_is_loading === 0) {\n",
       "    console.debug(\"Bokeh: BokehJS loaded, going straight to plotting\");\n",
       "    run_inline_js();\n",
       "  } else {\n",
       "    load_libs(css_urls, js_urls, function() {\n",
       "      console.debug(\"Bokeh: BokehJS plotting callback run at\", now());\n",
       "      run_inline_js();\n",
       "    });\n",
       "  }\n",
       "}(window));"
      ],
      "application/vnd.bokehjs_load.v0+json": "\n(function(root) {\n  function now() {\n    return new Date();\n  }\n\n  const force = true;\n\n  if (typeof root._bokeh_onload_callbacks === \"undefined\" || force === true) {\n    root._bokeh_onload_callbacks = [];\n    root._bokeh_is_loading = undefined;\n  }\n\n  \n\n  \n  if (typeof (root._bokeh_timeout) === \"undefined\" || force === true) {\n    root._bokeh_timeout = Date.now() + 5000;\n    root._bokeh_failed_load = false;\n  }\n\n  const NB_LOAD_WARNING = {'data': {'text/html':\n     \"<div style='background-color: #fdd'>\\n\"+\n     \"<p>\\n\"+\n     \"BokehJS does not appear to have successfully loaded. If loading BokehJS from CDN, this \\n\"+\n     \"may be due to a slow or bad network connection. Possible fixes:\\n\"+\n     \"</p>\\n\"+\n     \"<ul>\\n\"+\n     \"<li>re-rerun `output_notebook()` to attempt to load from CDN again, or</li>\\n\"+\n     \"<li>use INLINE resources instead, as so:</li>\\n\"+\n     \"</ul>\\n\"+\n     \"<code>\\n\"+\n     \"from bokeh.resources import INLINE\\n\"+\n     \"output_notebook(resources=INLINE)\\n\"+\n     \"</code>\\n\"+\n     \"</div>\"}};\n\n  function display_loaded() {\n    const el = document.getElementById(\"6239\");\n    if (el != null) {\n      el.textContent = \"BokehJS is loading...\";\n    }\n    if (root.Bokeh !== undefined) {\n      if (el != null) {\n        el.textContent = \"BokehJS \" + root.Bokeh.version + \" successfully loaded.\";\n      }\n    } else if (Date.now() < root._bokeh_timeout) {\n      setTimeout(display_loaded, 100)\n    }\n  }\n\n\n  function run_callbacks() {\n    try {\n      root._bokeh_onload_callbacks.forEach(function(callback) {\n        if (callback != null)\n          callback();\n      });\n    } finally {\n      delete root._bokeh_onload_callbacks\n    }\n    console.debug(\"Bokeh: all callbacks have finished\");\n  }\n\n  function load_libs(css_urls, js_urls, callback) {\n    if (css_urls == null) css_urls = [];\n    if (js_urls == null) js_urls = [];\n\n    root._bokeh_onload_callbacks.push(callback);\n    if (root._bokeh_is_loading > 0) {\n      console.debug(\"Bokeh: BokehJS is being loaded, scheduling callback at\", now());\n      return null;\n    }\n    if (js_urls == null || js_urls.length === 0) {\n      run_callbacks();\n      return null;\n    }\n    console.debug(\"Bokeh: BokehJS not loaded, scheduling load and callback at\", now());\n    root._bokeh_is_loading = css_urls.length + js_urls.length;\n\n    function on_load() {\n      root._bokeh_is_loading--;\n      if (root._bokeh_is_loading === 0) {\n        console.debug(\"Bokeh: all BokehJS libraries/stylesheets loaded\");\n        run_callbacks()\n      }\n    }\n\n    function on_error(url) {\n      console.error(\"failed to load \" + url);\n    }\n\n    for (let i = 0; i < css_urls.length; i++) {\n      const url = css_urls[i];\n      const element = document.createElement(\"link\");\n      element.onload = on_load;\n      element.onerror = on_error.bind(null, url);\n      element.rel = \"stylesheet\";\n      element.type = \"text/css\";\n      element.href = url;\n      console.debug(\"Bokeh: injecting link tag for BokehJS stylesheet: \", url);\n      document.body.appendChild(element);\n    }\n\n    for (let i = 0; i < js_urls.length; i++) {\n      const url = js_urls[i];\n      const element = document.createElement('script');\n      element.onload = on_load;\n      element.onerror = on_error.bind(null, url);\n      element.async = false;\n      element.src = url;\n      console.debug(\"Bokeh: injecting script tag for BokehJS library: \", url);\n      document.head.appendChild(element);\n    }\n  };\n\n  function inject_raw_css(css) {\n    const element = document.createElement(\"style\");\n    element.appendChild(document.createTextNode(css));\n    document.body.appendChild(element);\n  }\n\n  \n  const js_urls = [\"https://cdn.bokeh.org/bokeh/release/bokeh-2.4.2.min.js\", \"https://cdn.bokeh.org/bokeh/release/bokeh-gl-2.4.2.min.js\", \"https://cdn.bokeh.org/bokeh/release/bokeh-widgets-2.4.2.min.js\", \"https://cdn.bokeh.org/bokeh/release/bokeh-tables-2.4.2.min.js\", \"https://cdn.bokeh.org/bokeh/release/bokeh-mathjax-2.4.2.min.js\"];\n  const css_urls = [];\n  \n\n  const inline_js = [\n    function(Bokeh) {\n      Bokeh.set_log_level(\"info\");\n    },\n    function(Bokeh) {\n    \n    \n    }\n  ];\n\n  function run_inline_js() {\n    \n    if (root.Bokeh !== undefined || force === true) {\n      \n    for (let i = 0; i < inline_js.length; i++) {\n      inline_js[i].call(root, root.Bokeh);\n    }\n    if (force === true) {\n        display_loaded();\n      }} else if (Date.now() < root._bokeh_timeout) {\n      setTimeout(run_inline_js, 100);\n    } else if (!root._bokeh_failed_load) {\n      console.log(\"Bokeh: BokehJS failed to load within specified timeout.\");\n      root._bokeh_failed_load = true;\n    } else if (force !== true) {\n      const cell = $(document.getElementById(\"6239\")).parents('.cell').data().cell;\n      cell.output_area.append_execute_result(NB_LOAD_WARNING)\n    }\n\n  }\n\n  if (root._bokeh_is_loading === 0) {\n    console.debug(\"Bokeh: BokehJS loaded, going straight to plotting\");\n    run_inline_js();\n  } else {\n    load_libs(css_urls, js_urls, function() {\n      console.debug(\"Bokeh: BokehJS plotting callback run at\", now());\n      run_inline_js();\n    });\n  }\n}(window));"
     },
     "metadata": {},
     "output_type": "display_data"
    }
   ],
   "source": [
    "from datetime import date\n",
    "from random import randint\n",
    "\n",
    "import numpy as np\n",
    "\n",
    "from bokeh.io import output_notebook, show\n",
    "from bokeh.layouts import column, row \n",
    "\n",
    "from bokeh.models import (\n",
    "    Button, \n",
    "    CheckboxButtonGroup, \n",
    "    CheckboxGroup,\n",
    "    ColorPicker,\n",
    "    DateFormatter,\n",
    "    DatePicker,\n",
    "    DateRangeSlider,\n",
    "    DataTable,\n",
    "    Div,\n",
    "    Dropdown,\n",
    "    MultiChoice,\n",
    "    MultiSelect,\n",
    "    Panel,\n",
    "    RadioGroup,\n",
    "    RangeSlider,\n",
    "    Select,\n",
    "    Spinner,\n",
    "    TableColumn,\n",
    "    Tabs,\n",
    "    Toggle\n",
    ")\n",
    "\n",
    "from bokeh.models import ColumnDataSource, CustomJS\n",
    "from bokeh.plotting import figure\n",
    "\n",
    "# Display plots in Jupyter Notebook\n",
    "output_notebook()"
   ]
  },
  {
   "cell_type": "markdown",
   "id": "296844b7",
   "metadata": {},
   "source": [
    "### 2.1 Button"
   ]
  },
  {
   "cell_type": "code",
   "execution_count": 53,
   "id": "6550dffe",
   "metadata": {},
   "outputs": [
    {
     "data": {
      "text/html": [
       "\n",
       "\n",
       "\n",
       "\n",
       "\n",
       "\n",
       "  <div class=\"bk-root\" id=\"870728ea-b00e-4feb-aaae-6066350471db\" data-root-id=\"2607\"></div>\n"
      ]
     },
     "metadata": {},
     "output_type": "display_data"
    },
    {
     "data": {
      "application/javascript": [
       "(function(root) {\n",
       "  function embed_document(root) {\n",
       "    \n",
       "  const docs_json = {\"d5602708-b8cb-417e-93df-311828392394\":{\"defs\":[],\"roots\":{\"references\":[{\"attributes\":{\"button_type\":\"success\",\"icon\":null,\"js_event_callbacks\":{\"button_click\":[{\"id\":\"2608\"}]},\"label\":\"Foo\"},\"id\":\"2607\",\"type\":\"Button\"},{\"attributes\":{\"code\":\"console.log('button: click!')\"},\"id\":\"2608\",\"type\":\"CustomJS\"}],\"root_ids\":[\"2607\"]},\"title\":\"Bokeh Application\",\"version\":\"2.4.2\"}};\n",
       "  const render_items = [{\"docid\":\"d5602708-b8cb-417e-93df-311828392394\",\"root_ids\":[\"2607\"],\"roots\":{\"2607\":\"870728ea-b00e-4feb-aaae-6066350471db\"}}];\n",
       "  root.Bokeh.embed.embed_items_notebook(docs_json, render_items);\n",
       "\n",
       "  }\n",
       "  if (root.Bokeh !== undefined) {\n",
       "    embed_document(root);\n",
       "  } else {\n",
       "    let attempts = 0;\n",
       "    const timer = setInterval(function(root) {\n",
       "      if (root.Bokeh !== undefined) {\n",
       "        clearInterval(timer);\n",
       "        embed_document(root);\n",
       "      } else {\n",
       "        attempts++;\n",
       "        if (attempts > 100) {\n",
       "          clearInterval(timer);\n",
       "          console.log(\"Bokeh: ERROR: Unable to run BokehJS code because BokehJS library is missing\");\n",
       "        }\n",
       "      }\n",
       "    }, 10, root)\n",
       "  }\n",
       "})(window);"
      ],
      "application/vnd.bokehjs_exec.v0+json": ""
     },
     "metadata": {
      "application/vnd.bokehjs_exec.v0+json": {
       "id": "2607"
      }
     },
     "output_type": "display_data"
    }
   ],
   "source": [
    "# Button Example\n",
    "\n",
    "button = Button(label=\"Foo\", button_type=\"success\")\n",
    "button.js_on_click(CustomJS(code=\"console.log('button: click!')\"))\n",
    "\n",
    "show(button)"
   ]
  },
  {
   "cell_type": "markdown",
   "id": "f5171047",
   "metadata": {},
   "source": [
    "### 2.2 CheckboxButtonGroup"
   ]
  },
  {
   "cell_type": "code",
   "execution_count": 54,
   "id": "a5874d47",
   "metadata": {},
   "outputs": [
    {
     "data": {
      "text/html": [
       "\n",
       "\n",
       "\n",
       "\n",
       "\n",
       "\n",
       "  <div class=\"bk-root\" id=\"a05b4ab8-a05e-4513-8ca0-7c9752fff4db\" data-root-id=\"2698\"></div>\n"
      ]
     },
     "metadata": {},
     "output_type": "display_data"
    },
    {
     "data": {
      "application/javascript": [
       "(function(root) {\n",
       "  function embed_document(root) {\n",
       "    \n",
       "  const docs_json = {\"53c664f9-5dcd-44eb-9b6b-8a3eca304b15\":{\"defs\":[],\"roots\":{\"references\":[{\"attributes\":{\"active\":[0,1],\"js_property_callbacks\":{\"change:active\":[{\"id\":\"2699\"}]},\"labels\":[\"Option 1\",\"Option 2\",\"Option 3\"]},\"id\":\"2698\",\"type\":\"CheckboxButtonGroup\"},{\"attributes\":{\"code\":\"\\n    console.log('checkbox_button_group: active=' + this.active, this.toString())\\n\"},\"id\":\"2699\",\"type\":\"CustomJS\"}],\"root_ids\":[\"2698\"]},\"title\":\"Bokeh Application\",\"version\":\"2.4.2\"}};\n",
       "  const render_items = [{\"docid\":\"53c664f9-5dcd-44eb-9b6b-8a3eca304b15\",\"root_ids\":[\"2698\"],\"roots\":{\"2698\":\"a05b4ab8-a05e-4513-8ca0-7c9752fff4db\"}}];\n",
       "  root.Bokeh.embed.embed_items_notebook(docs_json, render_items);\n",
       "\n",
       "  }\n",
       "  if (root.Bokeh !== undefined) {\n",
       "    embed_document(root);\n",
       "  } else {\n",
       "    let attempts = 0;\n",
       "    const timer = setInterval(function(root) {\n",
       "      if (root.Bokeh !== undefined) {\n",
       "        clearInterval(timer);\n",
       "        embed_document(root);\n",
       "      } else {\n",
       "        attempts++;\n",
       "        if (attempts > 100) {\n",
       "          clearInterval(timer);\n",
       "          console.log(\"Bokeh: ERROR: Unable to run BokehJS code because BokehJS library is missing\");\n",
       "        }\n",
       "      }\n",
       "    }, 10, root)\n",
       "  }\n",
       "})(window);"
      ],
      "application/vnd.bokehjs_exec.v0+json": ""
     },
     "metadata": {
      "application/vnd.bokehjs_exec.v0+json": {
       "id": "2698"
      }
     },
     "output_type": "display_data"
    }
   ],
   "source": [
    "# CheckboxGroup\n",
    "\n",
    "LABELS = [\"Option 1\", \"Option 2\", \"Option 3\"]\n",
    "\n",
    "checkbox_button_group = CheckboxButtonGroup(labels=LABELS, active=[0, 1])\n",
    "checkbox_button_group.js_on_click(CustomJS(code=\"\"\"\n",
    "    console.log('checkbox_button_group: active=' + this.active, this.toString())\n",
    "\"\"\"))\n",
    "\n",
    "show(checkbox_button_group)"
   ]
  },
  {
   "cell_type": "markdown",
   "id": "e7faf203",
   "metadata": {},
   "source": [
    "### 2.3 CheckboxGroup"
   ]
  },
  {
   "cell_type": "code",
   "execution_count": 55,
   "id": "f7b4a27f",
   "metadata": {},
   "outputs": [
    {
     "data": {
      "text/html": [
       "\n",
       "\n",
       "\n",
       "\n",
       "\n",
       "\n",
       "  <div class=\"bk-root\" id=\"1220a6c0-6fb0-409c-8ef1-ca291580d4f8\" data-root-id=\"2789\"></div>\n"
      ]
     },
     "metadata": {},
     "output_type": "display_data"
    },
    {
     "data": {
      "application/javascript": [
       "(function(root) {\n",
       "  function embed_document(root) {\n",
       "    \n",
       "  const docs_json = {\"36dce3e9-7f83-4324-8b75-dc83b6944302\":{\"defs\":[],\"roots\":{\"references\":[{\"attributes\":{\"active\":[0,1],\"js_property_callbacks\":{\"change:active\":[{\"id\":\"2790\"}]},\"labels\":[\"Option 1\",\"Option 2\",\"Option 3\"]},\"id\":\"2789\",\"type\":\"CheckboxGroup\"},{\"attributes\":{\"code\":\"\\n    console.log(\\\"checkbox group: active=\\\" + this.active, this.toString())\\n\"},\"id\":\"2790\",\"type\":\"CustomJS\"}],\"root_ids\":[\"2789\"]},\"title\":\"Bokeh Application\",\"version\":\"2.4.2\"}};\n",
       "  const render_items = [{\"docid\":\"36dce3e9-7f83-4324-8b75-dc83b6944302\",\"root_ids\":[\"2789\"],\"roots\":{\"2789\":\"1220a6c0-6fb0-409c-8ef1-ca291580d4f8\"}}];\n",
       "  root.Bokeh.embed.embed_items_notebook(docs_json, render_items);\n",
       "\n",
       "  }\n",
       "  if (root.Bokeh !== undefined) {\n",
       "    embed_document(root);\n",
       "  } else {\n",
       "    let attempts = 0;\n",
       "    const timer = setInterval(function(root) {\n",
       "      if (root.Bokeh !== undefined) {\n",
       "        clearInterval(timer);\n",
       "        embed_document(root);\n",
       "      } else {\n",
       "        attempts++;\n",
       "        if (attempts > 100) {\n",
       "          clearInterval(timer);\n",
       "          console.log(\"Bokeh: ERROR: Unable to run BokehJS code because BokehJS library is missing\");\n",
       "        }\n",
       "      }\n",
       "    }, 10, root)\n",
       "  }\n",
       "})(window);"
      ],
      "application/vnd.bokehjs_exec.v0+json": ""
     },
     "metadata": {
      "application/vnd.bokehjs_exec.v0+json": {
       "id": "2789"
      }
     },
     "output_type": "display_data"
    }
   ],
   "source": [
    "# CheckboxGroup\n",
    "\n",
    "LABELS = [\"Option 1\", \"Option 2\", \"Option 3\"]\n",
    "\n",
    "checkbox_group = CheckboxGroup(labels=LABELS, active=[0, 1])\n",
    "checkbox_group.js_on_click(CustomJS(code=\"\"\"\n",
    "    console.log(\"checkbox group: active=\" + this.active, this.toString())\n",
    "\"\"\"))\n",
    "\n",
    "show(checkbox_group)"
   ]
  },
  {
   "cell_type": "markdown",
   "id": "0407ff67",
   "metadata": {},
   "source": [
    "### 2.4 Color Picker"
   ]
  },
  {
   "cell_type": "code",
   "execution_count": 56,
   "id": "b7c91814",
   "metadata": {},
   "outputs": [
    {
     "data": {
      "text/html": [
       "\n",
       "\n",
       "\n",
       "\n",
       "\n",
       "\n",
       "  <div class=\"bk-root\" id=\"881a3887-79a8-4228-9422-5a8e3b7255cb\" data-root-id=\"2919\"></div>\n"
      ]
     },
     "metadata": {},
     "output_type": "display_data"
    },
    {
     "data": {
      "application/javascript": [
       "(function(root) {\n",
       "  function embed_document(root) {\n",
       "    \n",
       "  const docs_json = {\"34051c84-e61a-4a42-9346-a918b1a2e317\":{\"defs\":[],\"roots\":{\"references\":[{\"attributes\":{\"children\":[{\"id\":\"2880\"},{\"id\":\"2917\"}]},\"id\":\"2919\",\"type\":\"Column\"},{\"attributes\":{\"color\":\"#32cd32\",\"js_property_callbacks\":{\"change:color\":[{\"id\":\"2918\"}]},\"title\":\"\\nLine Color Picker\"},\"id\":\"2917\",\"type\":\"ColorPicker\"},{\"attributes\":{\"coordinates\":null,\"data_source\":{\"id\":\"2911\"},\"glyph\":{\"id\":\"2912\"},\"group\":null,\"hover_glyph\":null,\"muted_glyph\":{\"id\":\"2914\"},\"nonselection_glyph\":{\"id\":\"2913\"},\"view\":{\"id\":\"2916\"}},\"id\":\"2915\",\"type\":\"GlyphRenderer\"},{\"attributes\":{},\"id\":\"2894\",\"type\":\"BasicTicker\"},{\"attributes\":{\"coordinates\":null,\"formatter\":{\"id\":\"3012\"},\"group\":null,\"major_label_policy\":{\"id\":\"3013\"},\"ticker\":{\"id\":\"2894\"}},\"id\":\"2893\",\"type\":\"LinearAxis\"},{\"attributes\":{\"line_alpha\":0.2,\"line_color\":\"limegreen\",\"line_width\":4,\"x\":{\"field\":\"x\"},\"y\":{\"field\":\"y\"}},\"id\":\"2914\",\"type\":\"Line\"},{\"attributes\":{},\"id\":\"2902\",\"type\":\"HelpTool\"},{\"attributes\":{},\"id\":\"3013\",\"type\":\"AllLabels\"},{\"attributes\":{},\"id\":\"3015\",\"type\":\"BasicTickFormatter\"},{\"attributes\":{},\"id\":\"2898\",\"type\":\"WheelZoomTool\"},{\"attributes\":{},\"id\":\"2897\",\"type\":\"PanTool\"},{\"attributes\":{},\"id\":\"2883\",\"type\":\"Range1d\"},{\"attributes\":{\"axis\":{\"id\":\"2893\"},\"coordinates\":null,\"dimension\":1,\"group\":null,\"ticker\":null},\"id\":\"2896\",\"type\":\"Grid\"},{\"attributes\":{\"overlay\":{\"id\":\"2903\"}},\"id\":\"2899\",\"type\":\"BoxZoomTool\"},{\"attributes\":{\"axis\":{\"id\":\"2889\"},\"coordinates\":null,\"group\":null,\"ticker\":null},\"id\":\"2892\",\"type\":\"Grid\"},{\"attributes\":{},\"id\":\"2900\",\"type\":\"SaveTool\"},{\"attributes\":{},\"id\":\"2901\",\"type\":\"ResetTool\"},{\"attributes\":{\"line_color\":\"limegreen\",\"line_width\":4,\"x\":{\"field\":\"x\"},\"y\":{\"field\":\"y\"}},\"id\":\"2912\",\"type\":\"Line\"},{\"attributes\":{},\"id\":\"3016\",\"type\":\"AllLabels\"},{\"attributes\":{\"below\":[{\"id\":\"2889\"}],\"center\":[{\"id\":\"2892\"},{\"id\":\"2896\"}],\"height\":350,\"left\":[{\"id\":\"2893\"}],\"renderers\":[{\"id\":\"2915\"}],\"title\":{\"id\":\"3009\"},\"toolbar\":{\"id\":\"2904\"},\"width\":350,\"x_range\":{\"id\":\"2881\"},\"x_scale\":{\"id\":\"2885\"},\"y_range\":{\"id\":\"2883\"},\"y_scale\":{\"id\":\"2887\"}},\"id\":\"2880\",\"subtype\":\"Figure\",\"type\":\"Plot\"},{\"attributes\":{\"tools\":[{\"id\":\"2897\"},{\"id\":\"2898\"},{\"id\":\"2899\"},{\"id\":\"2900\"},{\"id\":\"2901\"},{\"id\":\"2902\"}]},\"id\":\"2904\",\"type\":\"Toolbar\"},{\"attributes\":{},\"id\":\"3017\",\"type\":\"UnionRenderers\"},{\"attributes\":{},\"id\":\"2890\",\"type\":\"BasicTicker\"},{\"attributes\":{\"bottom_units\":\"screen\",\"coordinates\":null,\"fill_alpha\":0.5,\"fill_color\":\"lightgrey\",\"group\":null,\"left_units\":\"screen\",\"level\":\"overlay\",\"line_alpha\":1.0,\"line_color\":\"black\",\"line_dash\":[4,4],\"line_width\":2,\"right_units\":\"screen\",\"syncable\":false,\"top_units\":\"screen\"},\"id\":\"2903\",\"type\":\"BoxAnnotation\"},{\"attributes\":{},\"id\":\"3018\",\"type\":\"Selection\"},{\"attributes\":{},\"id\":\"2887\",\"type\":\"LinearScale\"},{\"attributes\":{\"line_alpha\":0.1,\"line_color\":\"limegreen\",\"line_width\":4,\"x\":{\"field\":\"x\"},\"y\":{\"field\":\"y\"}},\"id\":\"2913\",\"type\":\"Line\"},{\"attributes\":{},\"id\":\"3012\",\"type\":\"BasicTickFormatter\"},{\"attributes\":{\"coordinates\":null,\"group\":null},\"id\":\"3009\",\"type\":\"Title\"},{\"attributes\":{\"coordinates\":null,\"formatter\":{\"id\":\"3015\"},\"group\":null,\"major_label_policy\":{\"id\":\"3016\"},\"ticker\":{\"id\":\"2890\"}},\"id\":\"2889\",\"type\":\"LinearAxis\"},{\"attributes\":{\"source\":{\"id\":\"2911\"}},\"id\":\"2916\",\"type\":\"CDSView\"},{\"attributes\":{},\"id\":\"2881\",\"type\":\"Range1d\"},{\"attributes\":{},\"id\":\"2885\",\"type\":\"LinearScale\"},{\"attributes\":{\"args\":{\"other\":{\"id\":\"2912\"}},\"code\":\"other.line_color = this.color\"},\"id\":\"2918\",\"type\":\"CustomJS\"},{\"attributes\":{\"data\":{\"x\":[0,1],\"y\":[0,1]},\"selected\":{\"id\":\"3018\"},\"selection_policy\":{\"id\":\"3017\"}},\"id\":\"2911\",\"type\":\"ColumnDataSource\"}],\"root_ids\":[\"2919\"]},\"title\":\"Bokeh Application\",\"version\":\"2.4.2\"}};\n",
       "  const render_items = [{\"docid\":\"34051c84-e61a-4a42-9346-a918b1a2e317\",\"root_ids\":[\"2919\"],\"roots\":{\"2919\":\"881a3887-79a8-4228-9422-5a8e3b7255cb\"}}];\n",
       "  root.Bokeh.embed.embed_items_notebook(docs_json, render_items);\n",
       "\n",
       "  }\n",
       "  if (root.Bokeh !== undefined) {\n",
       "    embed_document(root);\n",
       "  } else {\n",
       "    let attempts = 0;\n",
       "    const timer = setInterval(function(root) {\n",
       "      if (root.Bokeh !== undefined) {\n",
       "        clearInterval(timer);\n",
       "        embed_document(root);\n",
       "      } else {\n",
       "        attempts++;\n",
       "        if (attempts > 100) {\n",
       "          clearInterval(timer);\n",
       "          console.log(\"Bokeh: ERROR: Unable to run BokehJS code because BokehJS library is missing\");\n",
       "        }\n",
       "      }\n",
       "    }, 10, root)\n",
       "  }\n",
       "})(window);"
      ],
      "application/vnd.bokehjs_exec.v0+json": ""
     },
     "metadata": {
      "application/vnd.bokehjs_exec.v0+json": {
       "id": "2919"
      }
     },
     "output_type": "display_data"
    }
   ],
   "source": [
    "# Color Picker\n",
    "\n",
    "DEFAULT_COLOR = \"limegreen\"\n",
    "\n",
    "plot = figure(x_range=(0, 1), y_range=(0, 1), width=350, height=350)\n",
    "line = plot.line(x=(0,1), y=(0,1), color=DEFAULT_COLOR, line_width=4)\n",
    "\n",
    "picker = ColorPicker(title=\"\\nLine Color Picker\", color=DEFAULT_COLOR)\n",
    "picker.js_link('color', line.glyph, 'line_color')\n",
    "\n",
    "show(column(plot, picker))"
   ]
  },
  {
   "cell_type": "markdown",
   "id": "d371514c",
   "metadata": {},
   "source": [
    "### 2.5 Data Table"
   ]
  },
  {
   "cell_type": "code",
   "execution_count": 57,
   "id": "2886d7ea",
   "metadata": {},
   "outputs": [
    {
     "data": {
      "text/html": [
       "\n",
       "\n",
       "\n",
       "\n",
       "\n",
       "\n",
       "  <div class=\"bk-root\" id=\"c08c9f2d-a7d2-43dd-b75f-04dd07ef21de\" data-root-id=\"3080\"></div>\n"
      ]
     },
     "metadata": {},
     "output_type": "display_data"
    },
    {
     "data": {
      "application/javascript": [
       "(function(root) {\n",
       "  function embed_document(root) {\n",
       "    \n",
       "  const docs_json = {\"f4270eda-630c-45b0-829e-6c95c0bb37d0\":{\"defs\":[],\"roots\":{\"references\":[{\"attributes\":{\"columns\":[{\"id\":\"3077\"},{\"id\":\"3079\"}],\"height\":300,\"source\":{\"id\":\"3075\"},\"view\":{\"id\":\"3082\"},\"width\":400},\"id\":\"3080\",\"type\":\"DataTable\"},{\"attributes\":{\"data\":{\"dates\":[\"2014-03-01\",\"2014-03-02\",\"2014-03-03\",\"2014-03-04\",\"2014-03-05\",\"2014-03-06\",\"2014-03-07\",\"2014-03-08\",\"2014-03-09\",\"2014-03-10\"],\"downloads\":[56,35,90,31,49,96,19,53,3,30]},\"selected\":{\"id\":\"3187\"},\"selection_policy\":{\"id\":\"3186\"}},\"id\":\"3075\",\"type\":\"ColumnDataSource\"},{\"attributes\":{},\"id\":\"3185\",\"type\":\"StringEditor\"},{\"attributes\":{\"source\":{\"id\":\"3075\"}},\"id\":\"3082\",\"type\":\"CDSView\"},{\"attributes\":{\"editor\":{\"id\":\"3183\"},\"field\":\"dates\",\"formatter\":{\"id\":\"3076\"},\"title\":\"Date\"},\"id\":\"3077\",\"type\":\"TableColumn\"},{\"attributes\":{},\"id\":\"3076\",\"type\":\"DateFormatter\"},{\"attributes\":{},\"id\":\"3187\",\"type\":\"Selection\"},{\"attributes\":{},\"id\":\"3183\",\"type\":\"StringEditor\"},{\"attributes\":{},\"id\":\"3184\",\"type\":\"StringFormatter\"},{\"attributes\":{},\"id\":\"3186\",\"type\":\"UnionRenderers\"},{\"attributes\":{\"editor\":{\"id\":\"3185\"},\"field\":\"downloads\",\"formatter\":{\"id\":\"3184\"},\"title\":\"Downloads\"},\"id\":\"3079\",\"type\":\"TableColumn\"}],\"root_ids\":[\"3080\"]},\"title\":\"Bokeh Application\",\"version\":\"2.4.2\"}};\n",
       "  const render_items = [{\"docid\":\"f4270eda-630c-45b0-829e-6c95c0bb37d0\",\"root_ids\":[\"3080\"],\"roots\":{\"3080\":\"c08c9f2d-a7d2-43dd-b75f-04dd07ef21de\"}}];\n",
       "  root.Bokeh.embed.embed_items_notebook(docs_json, render_items);\n",
       "\n",
       "  }\n",
       "  if (root.Bokeh !== undefined) {\n",
       "    embed_document(root);\n",
       "  } else {\n",
       "    let attempts = 0;\n",
       "    const timer = setInterval(function(root) {\n",
       "      if (root.Bokeh !== undefined) {\n",
       "        clearInterval(timer);\n",
       "        embed_document(root);\n",
       "      } else {\n",
       "        attempts++;\n",
       "        if (attempts > 100) {\n",
       "          clearInterval(timer);\n",
       "          console.log(\"Bokeh: ERROR: Unable to run BokehJS code because BokehJS library is missing\");\n",
       "        }\n",
       "      }\n",
       "    }, 10, root)\n",
       "  }\n",
       "})(window);"
      ],
      "application/vnd.bokehjs_exec.v0+json": ""
     },
     "metadata": {
      "application/vnd.bokehjs_exec.v0+json": {
       "id": "3080"
      }
     },
     "output_type": "display_data"
    }
   ],
   "source": [
    "# Data Table \n",
    "\n",
    "data = dict(\n",
    "        dates=[date(2014, 3, i+1) for i in range(10)],\n",
    "        downloads=[randint(0, 100) for i in range(10)],\n",
    "    )\n",
    "source = ColumnDataSource(data)\n",
    "\n",
    "columns = [\n",
    "        TableColumn(field=\"dates\", title=\"Date\", formatter=DateFormatter()),\n",
    "        TableColumn(field=\"downloads\", title=\"Downloads\"),\n",
    "    ]\n",
    "data_table = DataTable(source=source, columns=columns, width=400, height=300)\n",
    "\n",
    "show(data_table)"
   ]
  },
  {
   "cell_type": "markdown",
   "id": "f7727ee9",
   "metadata": {},
   "source": [
    "### 2.6 DatePicker"
   ]
  },
  {
   "cell_type": "code",
   "execution_count": 58,
   "id": "34a0861c",
   "metadata": {},
   "outputs": [
    {
     "data": {
      "text/html": [
       "\n",
       "\n",
       "\n",
       "\n",
       "\n",
       "\n",
       "  <div class=\"bk-root\" id=\"2b96d7ff-a48f-4132-94c8-dfe55b335dc4\" data-root-id=\"3213\"></div>\n"
      ]
     },
     "metadata": {},
     "output_type": "display_data"
    },
    {
     "data": {
      "application/javascript": [
       "(function(root) {\n",
       "  function embed_document(root) {\n",
       "    \n",
       "  const docs_json = {\"92a6aa88-fe30-4133-9f1f-b036c2ff4b45\":{\"defs\":[],\"roots\":{\"references\":[{\"attributes\":{\"js_property_callbacks\":{\"change:value\":[{\"id\":\"3214\"}]},\"max_date\":\"2019-10-30\",\"min_date\":\"2019-08-01\",\"title\":\"Select date\",\"value\":\"2019-09-20\"},\"id\":\"3213\",\"type\":\"DatePicker\"},{\"attributes\":{\"code\":\"\\n    console.log('date_picker: value=' + this.value, this.toString())\\n\"},\"id\":\"3214\",\"type\":\"CustomJS\"}],\"root_ids\":[\"3213\"]},\"title\":\"Bokeh Application\",\"version\":\"2.4.2\"}};\n",
       "  const render_items = [{\"docid\":\"92a6aa88-fe30-4133-9f1f-b036c2ff4b45\",\"root_ids\":[\"3213\"],\"roots\":{\"3213\":\"2b96d7ff-a48f-4132-94c8-dfe55b335dc4\"}}];\n",
       "  root.Bokeh.embed.embed_items_notebook(docs_json, render_items);\n",
       "\n",
       "  }\n",
       "  if (root.Bokeh !== undefined) {\n",
       "    embed_document(root);\n",
       "  } else {\n",
       "    let attempts = 0;\n",
       "    const timer = setInterval(function(root) {\n",
       "      if (root.Bokeh !== undefined) {\n",
       "        clearInterval(timer);\n",
       "        embed_document(root);\n",
       "      } else {\n",
       "        attempts++;\n",
       "        if (attempts > 100) {\n",
       "          clearInterval(timer);\n",
       "          console.log(\"Bokeh: ERROR: Unable to run BokehJS code because BokehJS library is missing\");\n",
       "        }\n",
       "      }\n",
       "    }, 10, root)\n",
       "  }\n",
       "})(window);"
      ],
      "application/vnd.bokehjs_exec.v0+json": ""
     },
     "metadata": {
      "application/vnd.bokehjs_exec.v0+json": {
       "id": "3213"
      }
     },
     "output_type": "display_data"
    }
   ],
   "source": [
    "# DatePicker\n",
    "\n",
    "date_picker = DatePicker(title='Select date', \n",
    "                         value=\"2019-09-20\", min_date=\"2019-08-01\", max_date=\"2019-10-30\")\n",
    "\n",
    "date_picker.js_on_change(\"value\", CustomJS(code=\"\"\"\n",
    "    console.log('date_picker: value=' + this.value, this.toString())\n",
    "\"\"\"))\n",
    "\n",
    "show(date_picker)\n"
   ]
  },
  {
   "cell_type": "markdown",
   "id": "20915a83",
   "metadata": {},
   "source": [
    "### 2.7 DateRangeSlider"
   ]
  },
  {
   "cell_type": "code",
   "execution_count": 63,
   "id": "55b5a4ec",
   "metadata": {},
   "outputs": [
    {
     "data": {
      "text/html": [
       "\n",
       "\n",
       "\n",
       "\n",
       "\n",
       "\n",
       "  <div class=\"bk-root\" id=\"d44c6eea-36ce-4154-9a0d-07f88fcfe481\" data-root-id=\"3535\"></div>\n"
      ]
     },
     "metadata": {},
     "output_type": "display_data"
    },
    {
     "data": {
      "application/javascript": [
       "(function(root) {\n",
       "  function embed_document(root) {\n",
       "    \n",
       "  const docs_json = {\"a94eceef-639a-4f0e-b524-44d746aad3bb\":{\"defs\":[],\"roots\":{\"references\":[{\"attributes\":{\"end\":1514678400000.0,\"js_property_callbacks\":{\"change:value\":[{\"id\":\"3536\"}]},\"start\":1420070400000.0,\"value\":[1451606400000.0,1483142400000.0]},\"id\":\"3535\",\"type\":\"DateRangeSlider\"},{\"attributes\":{\"code\":\"\\n    console.log('date_range_slider: value=' + this.value, this.toString())\\n\"},\"id\":\"3536\",\"type\":\"CustomJS\"}],\"root_ids\":[\"3535\"]},\"title\":\"Bokeh Application\",\"version\":\"2.4.2\"}};\n",
       "  const render_items = [{\"docid\":\"a94eceef-639a-4f0e-b524-44d746aad3bb\",\"root_ids\":[\"3535\"],\"roots\":{\"3535\":\"d44c6eea-36ce-4154-9a0d-07f88fcfe481\"}}];\n",
       "  root.Bokeh.embed.embed_items_notebook(docs_json, render_items);\n",
       "\n",
       "  }\n",
       "  if (root.Bokeh !== undefined) {\n",
       "    embed_document(root);\n",
       "  } else {\n",
       "    let attempts = 0;\n",
       "    const timer = setInterval(function(root) {\n",
       "      if (root.Bokeh !== undefined) {\n",
       "        clearInterval(timer);\n",
       "        embed_document(root);\n",
       "      } else {\n",
       "        attempts++;\n",
       "        if (attempts > 100) {\n",
       "          clearInterval(timer);\n",
       "          console.log(\"Bokeh: ERROR: Unable to run BokehJS code because BokehJS library is missing\");\n",
       "        }\n",
       "      }\n",
       "    }, 10, root)\n",
       "  }\n",
       "})(window);"
      ],
      "application/vnd.bokehjs_exec.v0+json": ""
     },
     "metadata": {
      "application/vnd.bokehjs_exec.v0+json": {
       "id": "3535"
      }
     },
     "output_type": "display_data"
    }
   ],
   "source": [
    "# DateRangeSlider\n",
    "\n",
    "date_range_slider = DateRangeSlider(value=(date(2016, 1, 1), date(2016, 12, 31)),\n",
    "                                    start=date(2015, 1, 1), end=date(2017, 12, 31))\n",
    "\n",
    "date_range_slider.js_on_change(\"value\", CustomJS(code=\"\"\"\n",
    "    console.log('date_range_slider: value=' + this.value, this.toString())\n",
    "\"\"\"))\n",
    "\n",
    "show(date_range_slider)"
   ]
  },
  {
   "cell_type": "markdown",
   "id": "9f6ea843",
   "metadata": {},
   "source": [
    "### 2.8 Div\n",
    "\n",
    "A widget for displaying text that can support HTML in a **\\<div\\>** tag.\n",
    "    "
   ]
  },
  {
   "cell_type": "markdown",
   "id": "5151ff64",
   "metadata": {},
   "source": [
    "\n",
    "div = Div(text=\"\"\"<p style=\"font-size:25px;\">\n",
    "    Your <a href=\"https://en.wikipedia.org/wiki/HTML\">HTML</a>-supported text is initialized with the \n",
    "    <b>text</b> argument.  The remaining div arguments are <b>width</b> and <b>height</b>. \n",
    "    For this example, those values are <i>200</i> and <i>100</i>, respectively.</p>\"\"\",\n",
    "width=800, height=120)\n",
    "\n",
    "show(div)"
   ]
  },
  {
   "cell_type": "markdown",
   "id": "5409e43f",
   "metadata": {},
   "source": [
    "### 2.9 Dropdown\n",
    "\n",
    "A button that displays a drop-down list of mutually exclusive items when clicked.\n"
   ]
  },
  {
   "cell_type": "code",
   "execution_count": 75,
   "id": "9e7ba284",
   "metadata": {},
   "outputs": [
    {
     "data": {
      "text/html": [
       "\n",
       "\n",
       "\n",
       "\n",
       "\n",
       "\n",
       "  <div class=\"bk-root\" id=\"db8507ff-6f88-4b20-a42b-02e82e0caaa6\" data-root-id=\"4598\"></div>\n"
      ]
     },
     "metadata": {},
     "output_type": "display_data"
    },
    {
     "data": {
      "application/javascript": [
       "(function(root) {\n",
       "  function embed_document(root) {\n",
       "    \n",
       "  const docs_json = {\"7494ec2a-3fc6-4a02-ae0c-c20e7a6fc58f\":{\"defs\":[],\"roots\":{\"references\":[{\"attributes\":{\"button_type\":\"warning\",\"icon\":null,\"js_event_callbacks\":{\"menu_item_click\":[{\"id\":\"4599\"}]},\"label\":\"Dropdown button\",\"menu\":[[\"Item 1\",\"item_1\"],[\"Item 2\",\"item_2\"],null,[\"Item 3\",\"item_3\"]]},\"id\":\"4598\",\"type\":\"Dropdown\"},{\"attributes\":{\"code\":\"console.log('dropdown: ' + this.item, this.toString())\"},\"id\":\"4599\",\"type\":\"CustomJS\"}],\"root_ids\":[\"4598\"]},\"title\":\"Bokeh Application\",\"version\":\"2.4.2\"}};\n",
       "  const render_items = [{\"docid\":\"7494ec2a-3fc6-4a02-ae0c-c20e7a6fc58f\",\"root_ids\":[\"4598\"],\"roots\":{\"4598\":\"db8507ff-6f88-4b20-a42b-02e82e0caaa6\"}}];\n",
       "  root.Bokeh.embed.embed_items_notebook(docs_json, render_items);\n",
       "\n",
       "  }\n",
       "  if (root.Bokeh !== undefined) {\n",
       "    embed_document(root);\n",
       "  } else {\n",
       "    let attempts = 0;\n",
       "    const timer = setInterval(function(root) {\n",
       "      if (root.Bokeh !== undefined) {\n",
       "        clearInterval(timer);\n",
       "        embed_document(root);\n",
       "      } else {\n",
       "        attempts++;\n",
       "        if (attempts > 100) {\n",
       "          clearInterval(timer);\n",
       "          console.log(\"Bokeh: ERROR: Unable to run BokehJS code because BokehJS library is missing\");\n",
       "        }\n",
       "      }\n",
       "    }, 10, root)\n",
       "  }\n",
       "})(window);"
      ],
      "application/vnd.bokehjs_exec.v0+json": ""
     },
     "metadata": {
      "application/vnd.bokehjs_exec.v0+json": {
       "id": "4598"
      }
     },
     "output_type": "display_data"
    }
   ],
   "source": [
    "# Dropdown\n",
    "\n",
    "menu = [(\"Item 1\", \"item_1\"), (\"Item 2\", \"item_2\"), None, (\"Item 3\", \"item_3\")]\n",
    "\n",
    "dropdown = Dropdown(label=\"Dropdown button\", button_type=\"warning\", menu=menu)\n",
    "\n",
    "dropdown.js_on_event(\"menu_item_click\", \n",
    "                     CustomJS(code=\"console.log('dropdown: ' + this.item, this.toString())\"))\n",
    "\n",
    "show(dropdown)"
   ]
  },
  {
   "cell_type": "markdown",
   "id": "e02d6d84",
   "metadata": {},
   "source": [
    "### 2.10 MultiChoice"
   ]
  },
  {
   "cell_type": "markdown",
   "id": "f9525ced",
   "metadata": {},
   "source": [
    "A multi-select widget to present multiple available options in a compact horizontal layout."
   ]
  },
  {
   "cell_type": "code",
   "execution_count": 79,
   "id": "b8c0a682",
   "metadata": {},
   "outputs": [
    {
     "data": {
      "text/html": [
       "\n",
       "\n",
       "\n",
       "\n",
       "\n",
       "\n",
       "  <div class=\"bk-root\" id=\"9a777add-9e9f-448e-a46b-f47b95b27c6c\" data-root-id=\"4813\"></div>\n"
      ]
     },
     "metadata": {},
     "output_type": "display_data"
    },
    {
     "data": {
      "application/javascript": [
       "(function(root) {\n",
       "  function embed_document(root) {\n",
       "    \n",
       "  const docs_json = {\"5de74bea-d2ff-47b6-be74-a8a08ed0fd0b\":{\"defs\":[],\"roots\":{\"references\":[{\"attributes\":{\"js_property_callbacks\":{\"change:value\":[{\"id\":\"4814\"}]},\"options\":[\"foo\",\"bar\",\"baz\",\"quux\"],\"value\":[\"foo\",\"baz\"]},\"id\":\"4813\",\"type\":\"MultiChoice\"},{\"attributes\":{\"code\":\"\\n    console.log('multi_choice: value=' + this.value, this.toString())\\n\"},\"id\":\"4814\",\"type\":\"CustomJS\"}],\"root_ids\":[\"4813\"]},\"title\":\"Bokeh Application\",\"version\":\"2.4.2\"}};\n",
       "  const render_items = [{\"docid\":\"5de74bea-d2ff-47b6-be74-a8a08ed0fd0b\",\"root_ids\":[\"4813\"],\"roots\":{\"4813\":\"9a777add-9e9f-448e-a46b-f47b95b27c6c\"}}];\n",
       "  root.Bokeh.embed.embed_items_notebook(docs_json, render_items);\n",
       "\n",
       "  }\n",
       "  if (root.Bokeh !== undefined) {\n",
       "    embed_document(root);\n",
       "  } else {\n",
       "    let attempts = 0;\n",
       "    const timer = setInterval(function(root) {\n",
       "      if (root.Bokeh !== undefined) {\n",
       "        clearInterval(timer);\n",
       "        embed_document(root);\n",
       "      } else {\n",
       "        attempts++;\n",
       "        if (attempts > 100) {\n",
       "          clearInterval(timer);\n",
       "          console.log(\"Bokeh: ERROR: Unable to run BokehJS code because BokehJS library is missing\");\n",
       "        }\n",
       "      }\n",
       "    }, 10, root)\n",
       "  }\n",
       "})(window);"
      ],
      "application/vnd.bokehjs_exec.v0+json": ""
     },
     "metadata": {
      "application/vnd.bokehjs_exec.v0+json": {
       "id": "4813"
      }
     },
     "output_type": "display_data"
    }
   ],
   "source": [
    "# MultiChoice \n",
    "\n",
    "OPTIONS = [\"foo\", \"bar\", \"baz\", \"quux\"]\n",
    "\n",
    "multi_choice = MultiChoice(value=[\"foo\", \"baz\"], options=OPTIONS)\n",
    "\n",
    "multi_choice.js_on_change(\"value\", CustomJS(code=\"\"\"\n",
    "    console.log('multi_choice: value=' + this.value, this.toString())\n",
    "\"\"\"))\n",
    "\n",
    "show(multi_choice)"
   ]
  },
  {
   "cell_type": "markdown",
   "id": "2b407d3b",
   "metadata": {},
   "source": [
    "### 2.11 MultiSelect\n"
   ]
  },
  {
   "cell_type": "code",
   "execution_count": 82,
   "id": "a318cc24",
   "metadata": {},
   "outputs": [
    {
     "data": {
      "text/html": [
       "\n",
       "\n",
       "\n",
       "\n",
       "\n",
       "\n",
       "  <div class=\"bk-root\" id=\"2a849dd2-de0a-459a-8aa4-55f346e49165\" data-root-id=\"4921\"></div>\n"
      ]
     },
     "metadata": {},
     "output_type": "display_data"
    },
    {
     "data": {
      "application/javascript": [
       "(function(root) {\n",
       "  function embed_document(root) {\n",
       "    \n",
       "  const docs_json = {\"cdfd9a55-f531-4062-9d49-3121aa33514f\":{\"defs\":[],\"roots\":{\"references\":[{\"attributes\":{\"js_property_callbacks\":{\"change:value\":[{\"id\":\"4922\"}]},\"options\":[[\"1\",\"foo\"],[\"2\",\"bar\"],[\"3\",\"baz\"],[\"4\",\"quux\"]],\"value\":[\"1\",\"2\"]},\"id\":\"4921\",\"type\":\"MultiSelect\"},{\"attributes\":{\"code\":\"\\n    console.log('multi_select: value=' + this.value, this.toString())\\n\"},\"id\":\"4922\",\"type\":\"CustomJS\"}],\"root_ids\":[\"4921\"]},\"title\":\"Bokeh Application\",\"version\":\"2.4.2\"}};\n",
       "  const render_items = [{\"docid\":\"cdfd9a55-f531-4062-9d49-3121aa33514f\",\"root_ids\":[\"4921\"],\"roots\":{\"4921\":\"2a849dd2-de0a-459a-8aa4-55f346e49165\"}}];\n",
       "  root.Bokeh.embed.embed_items_notebook(docs_json, render_items);\n",
       "\n",
       "  }\n",
       "  if (root.Bokeh !== undefined) {\n",
       "    embed_document(root);\n",
       "  } else {\n",
       "    let attempts = 0;\n",
       "    const timer = setInterval(function(root) {\n",
       "      if (root.Bokeh !== undefined) {\n",
       "        clearInterval(timer);\n",
       "        embed_document(root);\n",
       "      } else {\n",
       "        attempts++;\n",
       "        if (attempts > 100) {\n",
       "          clearInterval(timer);\n",
       "          console.log(\"Bokeh: ERROR: Unable to run BokehJS code because BokehJS library is missing\");\n",
       "        }\n",
       "      }\n",
       "    }, 10, root)\n",
       "  }\n",
       "})(window);"
      ],
      "application/vnd.bokehjs_exec.v0+json": ""
     },
     "metadata": {
      "application/vnd.bokehjs_exec.v0+json": {
       "id": "4921"
      }
     },
     "output_type": "display_data"
    }
   ],
   "source": [
    "# MultiSelect\n",
    "\n",
    "OPTIONS = [(\"1\", \"foo\"), (\"2\", \"bar\"), (\"3\", \"baz\"), (\"4\", \"quux\")]\n",
    "\n",
    "multi_select = MultiSelect(value=[\"1\", \"2\"], options=OPTIONS)\n",
    "multi_select.js_on_change(\"value\", CustomJS(code=\"\"\"\n",
    "    console.log('multi_select: value=' + this.value, this.toString())\n",
    "\"\"\"))\n",
    "\n",
    "show(multi_select)"
   ]
  },
  {
   "cell_type": "markdown",
   "id": "dfa64e42",
   "metadata": {},
   "source": [
    "### 2.12 RadioGroup"
   ]
  },
  {
   "cell_type": "code",
   "execution_count": 84,
   "id": "1feef2d1",
   "metadata": {},
   "outputs": [
    {
     "data": {
      "text/html": [
       "\n",
       "\n",
       "\n",
       "\n",
       "\n",
       "\n",
       "  <div class=\"bk-root\" id=\"38b9796b-6ed9-4d98-bd3f-97b89e81fe3d\" data-root-id=\"5029\"></div>\n"
      ]
     },
     "metadata": {},
     "output_type": "display_data"
    },
    {
     "data": {
      "application/javascript": [
       "(function(root) {\n",
       "  function embed_document(root) {\n",
       "    \n",
       "  const docs_json = {\"aba15cc2-f274-43f1-a8cb-0411734dac91\":{\"defs\":[],\"roots\":{\"references\":[{\"attributes\":{\"active\":0,\"js_property_callbacks\":{\"change:active\":[{\"id\":\"5030\"}]},\"labels\":[\"Option 1\",\"Option 2\",\"Option 3\"]},\"id\":\"5029\",\"type\":\"RadioGroup\"},{\"attributes\":{\"code\":\"\\n    console.log('radio_group: active=' + this.active, this.toString())\\n\"},\"id\":\"5030\",\"type\":\"CustomJS\"}],\"root_ids\":[\"5029\"]},\"title\":\"Bokeh Application\",\"version\":\"2.4.2\"}};\n",
       "  const render_items = [{\"docid\":\"aba15cc2-f274-43f1-a8cb-0411734dac91\",\"root_ids\":[\"5029\"],\"roots\":{\"5029\":\"38b9796b-6ed9-4d98-bd3f-97b89e81fe3d\"}}];\n",
       "  root.Bokeh.embed.embed_items_notebook(docs_json, render_items);\n",
       "\n",
       "  }\n",
       "  if (root.Bokeh !== undefined) {\n",
       "    embed_document(root);\n",
       "  } else {\n",
       "    let attempts = 0;\n",
       "    const timer = setInterval(function(root) {\n",
       "      if (root.Bokeh !== undefined) {\n",
       "        clearInterval(timer);\n",
       "        embed_document(root);\n",
       "      } else {\n",
       "        attempts++;\n",
       "        if (attempts > 100) {\n",
       "          clearInterval(timer);\n",
       "          console.log(\"Bokeh: ERROR: Unable to run BokehJS code because BokehJS library is missing\");\n",
       "        }\n",
       "      }\n",
       "    }, 10, root)\n",
       "  }\n",
       "})(window);"
      ],
      "application/vnd.bokehjs_exec.v0+json": ""
     },
     "metadata": {
      "application/vnd.bokehjs_exec.v0+json": {
       "id": "5029"
      }
     },
     "output_type": "display_data"
    }
   ],
   "source": [
    "# RadioGroup\n",
    "\n",
    "LABELS = [\"Option 1\", \"Option 2\", \"Option 3\"]\n",
    "\n",
    "radio_group = RadioGroup(labels=LABELS, active=0)\n",
    "radio_group.js_on_click(CustomJS(code=\"\"\"\n",
    "    console.log('radio_group: active=' + this.active, this.toString())\n",
    "\"\"\"))\n",
    "\n",
    "show(radio_group)"
   ]
  },
  {
   "cell_type": "markdown",
   "id": "c0b6743d",
   "metadata": {},
   "source": [
    "### 2.13 RangeSlider"
   ]
  },
  {
   "cell_type": "code",
   "execution_count": 87,
   "id": "03801615",
   "metadata": {},
   "outputs": [
    {
     "data": {
      "text/html": [
       "\n",
       "\n",
       "\n",
       "\n",
       "\n",
       "\n",
       "  <div class=\"bk-root\" id=\"a5278a54-973c-43bd-be39-3b22958be4dd\" data-root-id=\"5137\"></div>\n"
      ]
     },
     "metadata": {},
     "output_type": "display_data"
    },
    {
     "data": {
      "application/javascript": [
       "(function(root) {\n",
       "  function embed_document(root) {\n",
       "    \n",
       "  const docs_json = {\"dc67779e-0307-43b3-8a73-a5332f9bbde8\":{\"defs\":[],\"roots\":{\"references\":[{\"attributes\":{\"end\":10,\"js_property_callbacks\":{\"change:value\":[{\"id\":\"5138\"}]},\"start\":0,\"step\":0.1,\"title\":\"Stuff\",\"value\":[1,9]},\"id\":\"5137\",\"type\":\"RangeSlider\"},{\"attributes\":{\"code\":\"\\n    console.log('range_slider: value=' + this.value, this.toString())\\n\"},\"id\":\"5138\",\"type\":\"CustomJS\"}],\"root_ids\":[\"5137\"]},\"title\":\"Bokeh Application\",\"version\":\"2.4.2\"}};\n",
       "  const render_items = [{\"docid\":\"dc67779e-0307-43b3-8a73-a5332f9bbde8\",\"root_ids\":[\"5137\"],\"roots\":{\"5137\":\"a5278a54-973c-43bd-be39-3b22958be4dd\"}}];\n",
       "  root.Bokeh.embed.embed_items_notebook(docs_json, render_items);\n",
       "\n",
       "  }\n",
       "  if (root.Bokeh !== undefined) {\n",
       "    embed_document(root);\n",
       "  } else {\n",
       "    let attempts = 0;\n",
       "    const timer = setInterval(function(root) {\n",
       "      if (root.Bokeh !== undefined) {\n",
       "        clearInterval(timer);\n",
       "        embed_document(root);\n",
       "      } else {\n",
       "        attempts++;\n",
       "        if (attempts > 100) {\n",
       "          clearInterval(timer);\n",
       "          console.log(\"Bokeh: ERROR: Unable to run BokehJS code because BokehJS library is missing\");\n",
       "        }\n",
       "      }\n",
       "    }, 10, root)\n",
       "  }\n",
       "})(window);"
      ],
      "application/vnd.bokehjs_exec.v0+json": ""
     },
     "metadata": {
      "application/vnd.bokehjs_exec.v0+json": {
       "id": "5137"
      }
     },
     "output_type": "display_data"
    }
   ],
   "source": [
    "# RangeSlider\n",
    "\n",
    "range_slider = RangeSlider(start=0, end=10, value=(1,9), step=.1, title=\"Stuff\")\n",
    "range_slider.js_on_change(\"value\", CustomJS(code=\"\"\"\n",
    "    console.log('range_slider: value=' + this.value, this.toString())\n",
    "\"\"\"))\n",
    "\n",
    "show(range_slider)\n"
   ]
  },
  {
   "cell_type": "markdown",
   "id": "0541e6e0",
   "metadata": {},
   "source": [
    "### 2.14 Select"
   ]
  },
  {
   "cell_type": "code",
   "execution_count": 90,
   "id": "57903cb4",
   "metadata": {},
   "outputs": [
    {
     "data": {
      "text/html": [
       "\n",
       "\n",
       "\n",
       "\n",
       "\n",
       "\n",
       "  <div class=\"bk-root\" id=\"292b89de-0b84-4e48-b861-8749268d36ae\" data-root-id=\"5245\"></div>\n"
      ]
     },
     "metadata": {},
     "output_type": "display_data"
    },
    {
     "data": {
      "application/javascript": [
       "(function(root) {\n",
       "  function embed_document(root) {\n",
       "    \n",
       "  const docs_json = {\"4481301b-a78d-457e-b3ff-4809f94fa507\":{\"defs\":[],\"roots\":{\"references\":[{\"attributes\":{\"js_property_callbacks\":{\"change:value\":[{\"id\":\"5246\"}]},\"options\":[\"foo\",\"bar\",\"baz\",\"quux\"],\"title\":\"Option:\",\"value\":\"foo\"},\"id\":\"5245\",\"type\":\"Select\"},{\"attributes\":{\"code\":\"\\n    console.log('select: value=' + this.value, this.toString())\\n\"},\"id\":\"5246\",\"type\":\"CustomJS\"}],\"root_ids\":[\"5245\"]},\"title\":\"Bokeh Application\",\"version\":\"2.4.2\"}};\n",
       "  const render_items = [{\"docid\":\"4481301b-a78d-457e-b3ff-4809f94fa507\",\"root_ids\":[\"5245\"],\"roots\":{\"5245\":\"292b89de-0b84-4e48-b861-8749268d36ae\"}}];\n",
       "  root.Bokeh.embed.embed_items_notebook(docs_json, render_items);\n",
       "\n",
       "  }\n",
       "  if (root.Bokeh !== undefined) {\n",
       "    embed_document(root);\n",
       "  } else {\n",
       "    let attempts = 0;\n",
       "    const timer = setInterval(function(root) {\n",
       "      if (root.Bokeh !== undefined) {\n",
       "        clearInterval(timer);\n",
       "        embed_document(root);\n",
       "      } else {\n",
       "        attempts++;\n",
       "        if (attempts > 100) {\n",
       "          clearInterval(timer);\n",
       "          console.log(\"Bokeh: ERROR: Unable to run BokehJS code because BokehJS library is missing\");\n",
       "        }\n",
       "      }\n",
       "    }, 10, root)\n",
       "  }\n",
       "})(window);"
      ],
      "application/vnd.bokehjs_exec.v0+json": ""
     },
     "metadata": {
      "application/vnd.bokehjs_exec.v0+json": {
       "id": "5245"
      }
     },
     "output_type": "display_data"
    }
   ],
   "source": [
    "# Select \n",
    "\n",
    "select = Select(title=\"Option:\", value=\"foo\", options=[\"foo\", \"bar\", \"baz\", \"quux\"])\n",
    "select.js_on_change(\"value\", CustomJS(code=\"\"\"\n",
    "    console.log('select: value=' + this.value, this.toString())\n",
    "\"\"\"))\n",
    "\n",
    "show(select)"
   ]
  },
  {
   "cell_type": "markdown",
   "id": "f9529c5a",
   "metadata": {},
   "source": [
    "### 2.15 Spinner"
   ]
  },
  {
   "cell_type": "code",
   "execution_count": 93,
   "id": "aa84a028",
   "metadata": {},
   "outputs": [
    {
     "data": {
      "text/html": [
       "\n",
       "\n",
       "\n",
       "\n",
       "\n",
       "\n",
       "  <div class=\"bk-root\" id=\"61ca9085-52dc-4939-867a-b2abd8afaae2\" data-root-id=\"5394\"></div>\n"
      ]
     },
     "metadata": {},
     "output_type": "display_data"
    },
    {
     "data": {
      "application/javascript": [
       "(function(root) {\n",
       "  function embed_document(root) {\n",
       "    \n",
       "  const docs_json = {\"d22f8ce2-75c1-4792-977b-836649e6210b\":{\"defs\":[],\"roots\":{\"references\":[{\"attributes\":{\"children\":[{\"id\":\"5393\"},{\"id\":\"5354\"}]},\"id\":\"5394\",\"type\":\"Row\"},{\"attributes\":{},\"id\":\"5375\",\"type\":\"ResetTool\"},{\"attributes\":{\"below\":[{\"id\":\"5363\"}],\"center\":[{\"id\":\"5366\"},{\"id\":\"5370\"}],\"left\":[{\"id\":\"5367\"}],\"renderers\":[{\"id\":\"5389\"}],\"title\":{\"id\":\"5500\"},\"toolbar\":{\"id\":\"5378\"},\"x_range\":{\"id\":\"5355\"},\"x_scale\":{\"id\":\"5359\"},\"y_range\":{\"id\":\"5357\"},\"y_scale\":{\"id\":\"5361\"}},\"id\":\"5354\",\"subtype\":\"Figure\",\"type\":\"Plot\"},{\"attributes\":{\"axis\":{\"id\":\"5367\"},\"coordinates\":null,\"dimension\":1,\"group\":null,\"ticker\":null},\"id\":\"5370\",\"type\":\"Grid\"},{\"attributes\":{},\"id\":\"5503\",\"type\":\"BasicTickFormatter\"},{\"attributes\":{\"fill_color\":{\"value\":\"#1f77b4\"},\"line_color\":{\"value\":\"#1f77b4\"},\"x\":{\"field\":\"x\"},\"y\":{\"field\":\"y\"}},\"id\":\"5386\",\"type\":\"Scatter\"},{\"attributes\":{},\"id\":\"5371\",\"type\":\"PanTool\"},{\"attributes\":{},\"id\":\"5504\",\"type\":\"AllLabels\"},{\"attributes\":{\"source\":{\"id\":\"5385\"}},\"id\":\"5390\",\"type\":\"CDSView\"},{\"attributes\":{\"coordinates\":null,\"formatter\":{\"id\":\"5506\"},\"group\":null,\"major_label_policy\":{\"id\":\"5507\"},\"ticker\":{\"id\":\"5364\"}},\"id\":\"5363\",\"type\":\"LinearAxis\"},{\"attributes\":{},\"id\":\"5506\",\"type\":\"BasicTickFormatter\"},{\"attributes\":{\"coordinates\":null,\"group\":null},\"id\":\"5500\",\"type\":\"Title\"},{\"attributes\":{},\"id\":\"5507\",\"type\":\"AllLabels\"},{\"attributes\":{\"children\":[{\"id\":\"5391\"}],\"width\":100},\"id\":\"5393\",\"type\":\"Column\"},{\"attributes\":{},\"id\":\"5355\",\"type\":\"Range1d\"},{\"attributes\":{},\"id\":\"5372\",\"type\":\"WheelZoomTool\"},{\"attributes\":{\"coordinates\":null,\"formatter\":{\"id\":\"5503\"},\"group\":null,\"major_label_policy\":{\"id\":\"5504\"},\"ticker\":{\"id\":\"5368\"}},\"id\":\"5367\",\"type\":\"LinearAxis\"},{\"attributes\":{\"bottom_units\":\"screen\",\"coordinates\":null,\"fill_alpha\":0.5,\"fill_color\":\"lightgrey\",\"group\":null,\"left_units\":\"screen\",\"level\":\"overlay\",\"line_alpha\":1.0,\"line_color\":\"black\",\"line_dash\":[4,4],\"line_width\":2,\"right_units\":\"screen\",\"syncable\":false,\"top_units\":\"screen\"},\"id\":\"5377\",\"type\":\"BoxAnnotation\"},{\"attributes\":{},\"id\":\"5359\",\"type\":\"LinearScale\"},{\"attributes\":{\"coordinates\":null,\"data_source\":{\"id\":\"5385\"},\"glyph\":{\"id\":\"5386\"},\"group\":null,\"hover_glyph\":null,\"muted_glyph\":{\"id\":\"5388\"},\"nonselection_glyph\":{\"id\":\"5387\"},\"view\":{\"id\":\"5390\"}},\"id\":\"5389\",\"type\":\"GlyphRenderer\"},{\"attributes\":{\"high\":40,\"js_property_callbacks\":{\"change:value\":[{\"id\":\"5392\"}]},\"low\":1,\"step\":0.5,\"title\":\"Glyph size\",\"value\":4,\"value_throttled\":4,\"width\":80},\"id\":\"5391\",\"type\":\"Spinner\"},{\"attributes\":{\"fill_alpha\":{\"value\":0.1},\"fill_color\":{\"value\":\"#1f77b4\"},\"hatch_alpha\":{\"value\":0.1},\"line_alpha\":{\"value\":0.1},\"line_color\":{\"value\":\"#1f77b4\"},\"x\":{\"field\":\"x\"},\"y\":{\"field\":\"y\"}},\"id\":\"5387\",\"type\":\"Scatter\"},{\"attributes\":{},\"id\":\"5508\",\"type\":\"UnionRenderers\"},{\"attributes\":{\"fill_alpha\":{\"value\":0.2},\"fill_color\":{\"value\":\"#1f77b4\"},\"hatch_alpha\":{\"value\":0.2},\"line_alpha\":{\"value\":0.2},\"line_color\":{\"value\":\"#1f77b4\"},\"x\":{\"field\":\"x\"},\"y\":{\"field\":\"y\"}},\"id\":\"5388\",\"type\":\"Scatter\"},{\"attributes\":{},\"id\":\"5376\",\"type\":\"HelpTool\"},{\"attributes\":{\"overlay\":{\"id\":\"5377\"}},\"id\":\"5373\",\"type\":\"BoxZoomTool\"},{\"attributes\":{},\"id\":\"5361\",\"type\":\"LinearScale\"},{\"attributes\":{},\"id\":\"5509\",\"type\":\"Selection\"},{\"attributes\":{},\"id\":\"5368\",\"type\":\"BasicTicker\"},{\"attributes\":{},\"id\":\"5374\",\"type\":\"SaveTool\"},{\"attributes\":{},\"id\":\"5357\",\"type\":\"Range1d\"},{\"attributes\":{\"args\":{\"other\":{\"id\":\"5386\"}},\"code\":\"other.size = this.value\"},\"id\":\"5392\",\"type\":\"CustomJS\"},{\"attributes\":{\"tools\":[{\"id\":\"5371\"},{\"id\":\"5372\"},{\"id\":\"5373\"},{\"id\":\"5374\"},{\"id\":\"5375\"},{\"id\":\"5376\"}]},\"id\":\"5378\",\"type\":\"Toolbar\"},{\"attributes\":{},\"id\":\"5364\",\"type\":\"BasicTicker\"},{\"attributes\":{\"axis\":{\"id\":\"5363\"},\"coordinates\":null,\"group\":null,\"ticker\":null},\"id\":\"5366\",\"type\":\"Grid\"},{\"attributes\":{\"data\":{\"x\":{\"__ndarray__\":\"xP/BzuLB7j8wYEcLTinfPzj7gprL7eo/p1Eu0tBk7D+sb7IWb0rUP36JNB7zfNM/T2LgXn8G4T+Grw32bl3jP5uz4rz2/+0/YPgclB8ozj8=\",\"dtype\":\"float64\",\"order\":\"little\",\"shape\":[10]},\"y\":{\"__ndarray__\":\"vAlPShqz7z/7Iho0sHPsPyW8aXdyRuA/DV2zCWR36T8hODBWdnLlP8xaMwKmRNk/QGtL/PRksj/8sJ/O2ZbiP6FGHXBDg+4/+tU8H7kj2D8=\",\"dtype\":\"float64\",\"order\":\"little\",\"shape\":[10]}},\"selected\":{\"id\":\"5509\"},\"selection_policy\":{\"id\":\"5508\"}},\"id\":\"5385\",\"type\":\"ColumnDataSource\"}],\"root_ids\":[\"5394\"]},\"title\":\"Bokeh Application\",\"version\":\"2.4.2\"}};\n",
       "  const render_items = [{\"docid\":\"d22f8ce2-75c1-4792-977b-836649e6210b\",\"root_ids\":[\"5394\"],\"roots\":{\"5394\":\"61ca9085-52dc-4939-867a-b2abd8afaae2\"}}];\n",
       "  root.Bokeh.embed.embed_items_notebook(docs_json, render_items);\n",
       "\n",
       "  }\n",
       "  if (root.Bokeh !== undefined) {\n",
       "    embed_document(root);\n",
       "  } else {\n",
       "    let attempts = 0;\n",
       "    const timer = setInterval(function(root) {\n",
       "      if (root.Bokeh !== undefined) {\n",
       "        clearInterval(timer);\n",
       "        embed_document(root);\n",
       "      } else {\n",
       "        attempts++;\n",
       "        if (attempts > 100) {\n",
       "          clearInterval(timer);\n",
       "          console.log(\"Bokeh: ERROR: Unable to run BokehJS code because BokehJS library is missing\");\n",
       "        }\n",
       "      }\n",
       "    }, 10, root)\n",
       "  }\n",
       "})(window);"
      ],
      "application/vnd.bokehjs_exec.v0+json": ""
     },
     "metadata": {
      "application/vnd.bokehjs_exec.v0+json": {
       "id": "5394"
      }
     },
     "output_type": "display_data"
    }
   ],
   "source": [
    "# Spinner\n",
    "\n",
    "x = np.random.rand(10)\n",
    "y = np.random.rand(10)\n",
    "\n",
    "p = figure(x_range=(0, 1), y_range=(0, 1))\n",
    "points = p.scatter(x=x, y=y, size=4)\n",
    "\n",
    "spinner = Spinner(title=\"Glyph size\", low=1, high=40, step=0.5, value=4, width=80)\n",
    "spinner.js_link('value', points.glyph, 'size')\n",
    "\n",
    "show(row(column(spinner, width=100), p))"
   ]
  },
  {
   "cell_type": "markdown",
   "id": "9fcd6117",
   "metadata": {},
   "source": [
    "### 2.16 Tabs"
   ]
  },
  {
   "cell_type": "code",
   "execution_count": 96,
   "id": "38db4eba",
   "metadata": {},
   "outputs": [
    {
     "data": {
      "text/html": [
       "\n",
       "\n",
       "\n",
       "\n",
       "\n",
       "\n",
       "  <div class=\"bk-root\" id=\"515044f9-4c9b-4545-973d-509096a58dcc\" data-root-id=\"5968\"></div>\n"
      ]
     },
     "metadata": {},
     "output_type": "display_data"
    },
    {
     "data": {
      "application/javascript": [
       "(function(root) {\n",
       "  function embed_document(root) {\n",
       "    \n",
       "  const docs_json = {\"2a6fb91b-8a30-4fe9-8233-64b4890a10f5\":{\"defs\":[],\"roots\":{\"references\":[{\"attributes\":{\"tabs\":[{\"id\":\"5929\"},{\"id\":\"5967\"}]},\"id\":\"5968\",\"type\":\"Tabs\"},{\"attributes\":{\"below\":[{\"id\":\"5939\"}],\"center\":[{\"id\":\"5942\"},{\"id\":\"5946\"}],\"height\":300,\"left\":[{\"id\":\"5943\"}],\"renderers\":[{\"id\":\"5965\"}],\"title\":{\"id\":\"6109\"},\"toolbar\":{\"id\":\"5954\"},\"width\":300,\"x_range\":{\"id\":\"5931\"},\"x_scale\":{\"id\":\"5935\"},\"y_range\":{\"id\":\"5933\"},\"y_scale\":{\"id\":\"5937\"}},\"id\":\"5930\",\"subtype\":\"Figure\",\"type\":\"Plot\"},{\"attributes\":{},\"id\":\"6124\",\"type\":\"Selection\"},{\"attributes\":{\"source\":{\"id\":\"5923\"}},\"id\":\"5928\",\"type\":\"CDSView\"},{\"attributes\":{\"data\":{\"x\":[1,2,3,4,5],\"y\":[6,7,2,4,5]},\"selected\":{\"id\":\"6124\"},\"selection_policy\":{\"id\":\"6123\"}},\"id\":\"5923\",\"type\":\"ColumnDataSource\"},{\"attributes\":{\"coordinates\":null,\"formatter\":{\"id\":\"6112\"},\"group\":null,\"major_label_policy\":{\"id\":\"6113\"},\"ticker\":{\"id\":\"5906\"}},\"id\":\"5905\",\"type\":\"LinearAxis\"},{\"attributes\":{},\"id\":\"5913\",\"type\":\"ResetTool\"},{\"attributes\":{\"overlay\":{\"id\":\"5953\"}},\"id\":\"5949\",\"type\":\"BoxZoomTool\"},{\"attributes\":{},\"id\":\"5950\",\"type\":\"SaveTool\"},{\"attributes\":{\"fill_alpha\":{\"value\":0.1},\"fill_color\":{\"value\":\"navy\"},\"hatch_alpha\":{\"value\":0.1},\"hatch_color\":{\"value\":\"navy\"},\"line_alpha\":{\"value\":0.1},\"line_color\":{\"value\":\"navy\"},\"size\":{\"value\":20},\"x\":{\"field\":\"x\"},\"y\":{\"field\":\"y\"}},\"id\":\"5925\",\"type\":\"Circle\"},{\"attributes\":{\"below\":[{\"id\":\"5901\"}],\"center\":[{\"id\":\"5904\"},{\"id\":\"5908\"}],\"height\":300,\"left\":[{\"id\":\"5905\"}],\"renderers\":[{\"id\":\"5927\"}],\"title\":{\"id\":\"6107\"},\"toolbar\":{\"id\":\"5916\"},\"width\":300,\"x_range\":{\"id\":\"5893\"},\"x_scale\":{\"id\":\"5897\"},\"y_range\":{\"id\":\"5895\"},\"y_scale\":{\"id\":\"5899\"}},\"id\":\"5892\",\"subtype\":\"Figure\",\"type\":\"Plot\"},{\"attributes\":{\"line_alpha\":0.1,\"line_color\":\"navy\",\"line_width\":3,\"x\":{\"field\":\"x\"},\"y\":{\"field\":\"y\"}},\"id\":\"5963\",\"type\":\"Line\"},{\"attributes\":{\"coordinates\":null,\"data_source\":{\"id\":\"5961\"},\"glyph\":{\"id\":\"5962\"},\"group\":null,\"hover_glyph\":null,\"muted_glyph\":{\"id\":\"5964\"},\"nonselection_glyph\":{\"id\":\"5963\"},\"view\":{\"id\":\"5966\"}},\"id\":\"5965\",\"type\":\"GlyphRenderer\"},{\"attributes\":{},\"id\":\"6119\",\"type\":\"AllLabels\"},{\"attributes\":{},\"id\":\"5893\",\"type\":\"DataRange1d\"},{\"attributes\":{\"axis\":{\"id\":\"5901\"},\"coordinates\":null,\"group\":null,\"ticker\":null},\"id\":\"5904\",\"type\":\"Grid\"},{\"attributes\":{},\"id\":\"5909\",\"type\":\"PanTool\"},{\"attributes\":{},\"id\":\"5914\",\"type\":\"HelpTool\"},{\"attributes\":{},\"id\":\"6122\",\"type\":\"AllLabels\"},{\"attributes\":{},\"id\":\"6121\",\"type\":\"BasicTickFormatter\"},{\"attributes\":{},\"id\":\"6126\",\"type\":\"UnionRenderers\"},{\"attributes\":{\"line_alpha\":0.5,\"line_color\":\"navy\",\"line_width\":3,\"x\":{\"field\":\"x\"},\"y\":{\"field\":\"y\"}},\"id\":\"5962\",\"type\":\"Line\"},{\"attributes\":{\"axis\":{\"id\":\"5943\"},\"coordinates\":null,\"dimension\":1,\"group\":null,\"ticker\":null},\"id\":\"5946\",\"type\":\"Grid\"},{\"attributes\":{},\"id\":\"5937\",\"type\":\"LinearScale\"},{\"attributes\":{},\"id\":\"5910\",\"type\":\"WheelZoomTool\"},{\"attributes\":{},\"id\":\"6113\",\"type\":\"AllLabels\"},{\"attributes\":{\"coordinates\":null,\"data_source\":{\"id\":\"5923\"},\"glyph\":{\"id\":\"5924\"},\"group\":null,\"hover_glyph\":null,\"muted_glyph\":{\"id\":\"5926\"},\"nonselection_glyph\":{\"id\":\"5925\"},\"view\":{\"id\":\"5928\"}},\"id\":\"5927\",\"type\":\"GlyphRenderer\"},{\"attributes\":{\"coordinates\":null,\"formatter\":{\"id\":\"6118\"},\"group\":null,\"major_label_policy\":{\"id\":\"6119\"},\"ticker\":{\"id\":\"5944\"}},\"id\":\"5943\",\"type\":\"LinearAxis\"},{\"attributes\":{\"line_alpha\":0.2,\"line_color\":\"navy\",\"line_width\":3,\"x\":{\"field\":\"x\"},\"y\":{\"field\":\"y\"}},\"id\":\"5964\",\"type\":\"Line\"},{\"attributes\":{},\"id\":\"5944\",\"type\":\"BasicTicker\"},{\"attributes\":{},\"id\":\"6123\",\"type\":\"UnionRenderers\"},{\"attributes\":{},\"id\":\"5899\",\"type\":\"LinearScale\"},{\"attributes\":{\"source\":{\"id\":\"5961\"}},\"id\":\"5966\",\"type\":\"CDSView\"},{\"attributes\":{},\"id\":\"6116\",\"type\":\"AllLabels\"},{\"attributes\":{},\"id\":\"5933\",\"type\":\"DataRange1d\"},{\"attributes\":{\"tools\":[{\"id\":\"5947\"},{\"id\":\"5948\"},{\"id\":\"5949\"},{\"id\":\"5950\"},{\"id\":\"5951\"},{\"id\":\"5952\"}]},\"id\":\"5954\",\"type\":\"Toolbar\"},{\"attributes\":{\"coordinates\":null,\"group\":null},\"id\":\"6109\",\"type\":\"Title\"},{\"attributes\":{},\"id\":\"6112\",\"type\":\"BasicTickFormatter\"},{\"attributes\":{},\"id\":\"5906\",\"type\":\"BasicTicker\"},{\"attributes\":{},\"id\":\"6118\",\"type\":\"BasicTickFormatter\"},{\"attributes\":{},\"id\":\"5935\",\"type\":\"LinearScale\"},{\"attributes\":{\"overlay\":{\"id\":\"5915\"}},\"id\":\"5911\",\"type\":\"BoxZoomTool\"},{\"attributes\":{},\"id\":\"6115\",\"type\":\"BasicTickFormatter\"},{\"attributes\":{\"fill_alpha\":{\"value\":0.2},\"fill_color\":{\"value\":\"navy\"},\"hatch_alpha\":{\"value\":0.2},\"hatch_color\":{\"value\":\"navy\"},\"line_alpha\":{\"value\":0.2},\"line_color\":{\"value\":\"navy\"},\"size\":{\"value\":20},\"x\":{\"field\":\"x\"},\"y\":{\"field\":\"y\"}},\"id\":\"5926\",\"type\":\"Circle\"},{\"attributes\":{},\"id\":\"5947\",\"type\":\"PanTool\"},{\"attributes\":{\"bottom_units\":\"screen\",\"coordinates\":null,\"fill_alpha\":0.5,\"fill_color\":\"lightgrey\",\"group\":null,\"left_units\":\"screen\",\"level\":\"overlay\",\"line_alpha\":1.0,\"line_color\":\"black\",\"line_dash\":[4,4],\"line_width\":2,\"right_units\":\"screen\",\"syncable\":false,\"top_units\":\"screen\"},\"id\":\"5915\",\"type\":\"BoxAnnotation\"},{\"attributes\":{},\"id\":\"5912\",\"type\":\"SaveTool\"},{\"attributes\":{\"fill_alpha\":{\"value\":0.5},\"fill_color\":{\"value\":\"navy\"},\"hatch_alpha\":{\"value\":0.5},\"hatch_color\":{\"value\":\"navy\"},\"line_alpha\":{\"value\":0.5},\"line_color\":{\"value\":\"navy\"},\"size\":{\"value\":20},\"x\":{\"field\":\"x\"},\"y\":{\"field\":\"y\"}},\"id\":\"5924\",\"type\":\"Circle\"},{\"attributes\":{\"axis\":{\"id\":\"5939\"},\"coordinates\":null,\"group\":null,\"ticker\":null},\"id\":\"5942\",\"type\":\"Grid\"},{\"attributes\":{},\"id\":\"5948\",\"type\":\"WheelZoomTool\"},{\"attributes\":{\"child\":{\"id\":\"5892\"},\"title\":\"circle\"},\"id\":\"5929\",\"type\":\"Panel\"},{\"attributes\":{},\"id\":\"5895\",\"type\":\"DataRange1d\"},{\"attributes\":{},\"id\":\"5952\",\"type\":\"HelpTool\"},{\"attributes\":{\"tools\":[{\"id\":\"5909\"},{\"id\":\"5910\"},{\"id\":\"5911\"},{\"id\":\"5912\"},{\"id\":\"5913\"},{\"id\":\"5914\"}]},\"id\":\"5916\",\"type\":\"Toolbar\"},{\"attributes\":{\"child\":{\"id\":\"5930\"},\"title\":\"line\"},\"id\":\"5967\",\"type\":\"Panel\"},{\"attributes\":{},\"id\":\"5897\",\"type\":\"LinearScale\"},{\"attributes\":{\"coordinates\":null,\"group\":null},\"id\":\"6107\",\"type\":\"Title\"},{\"attributes\":{},\"id\":\"5951\",\"type\":\"ResetTool\"},{\"attributes\":{},\"id\":\"5902\",\"type\":\"BasicTicker\"},{\"attributes\":{\"data\":{\"x\":[1,2,3,4,5],\"y\":[6,7,2,4,5]},\"selected\":{\"id\":\"6127\"},\"selection_policy\":{\"id\":\"6126\"}},\"id\":\"5961\",\"type\":\"ColumnDataSource\"},{\"attributes\":{},\"id\":\"5940\",\"type\":\"BasicTicker\"},{\"attributes\":{},\"id\":\"5931\",\"type\":\"DataRange1d\"},{\"attributes\":{},\"id\":\"6127\",\"type\":\"Selection\"},{\"attributes\":{\"coordinates\":null,\"formatter\":{\"id\":\"6115\"},\"group\":null,\"major_label_policy\":{\"id\":\"6116\"},\"ticker\":{\"id\":\"5902\"}},\"id\":\"5901\",\"type\":\"LinearAxis\"},{\"attributes\":{\"bottom_units\":\"screen\",\"coordinates\":null,\"fill_alpha\":0.5,\"fill_color\":\"lightgrey\",\"group\":null,\"left_units\":\"screen\",\"level\":\"overlay\",\"line_alpha\":1.0,\"line_color\":\"black\",\"line_dash\":[4,4],\"line_width\":2,\"right_units\":\"screen\",\"syncable\":false,\"top_units\":\"screen\"},\"id\":\"5953\",\"type\":\"BoxAnnotation\"},{\"attributes\":{\"coordinates\":null,\"formatter\":{\"id\":\"6121\"},\"group\":null,\"major_label_policy\":{\"id\":\"6122\"},\"ticker\":{\"id\":\"5940\"}},\"id\":\"5939\",\"type\":\"LinearAxis\"},{\"attributes\":{\"axis\":{\"id\":\"5905\"},\"coordinates\":null,\"dimension\":1,\"group\":null,\"ticker\":null},\"id\":\"5908\",\"type\":\"Grid\"}],\"root_ids\":[\"5968\"]},\"title\":\"Bokeh Application\",\"version\":\"2.4.2\"}};\n",
       "  const render_items = [{\"docid\":\"2a6fb91b-8a30-4fe9-8233-64b4890a10f5\",\"root_ids\":[\"5968\"],\"roots\":{\"5968\":\"515044f9-4c9b-4545-973d-509096a58dcc\"}}];\n",
       "  root.Bokeh.embed.embed_items_notebook(docs_json, render_items);\n",
       "\n",
       "  }\n",
       "  if (root.Bokeh !== undefined) {\n",
       "    embed_document(root);\n",
       "  } else {\n",
       "    let attempts = 0;\n",
       "    const timer = setInterval(function(root) {\n",
       "      if (root.Bokeh !== undefined) {\n",
       "        clearInterval(timer);\n",
       "        embed_document(root);\n",
       "      } else {\n",
       "        attempts++;\n",
       "        if (attempts > 100) {\n",
       "          clearInterval(timer);\n",
       "          console.log(\"Bokeh: ERROR: Unable to run BokehJS code because BokehJS library is missing\");\n",
       "        }\n",
       "      }\n",
       "    }, 10, root)\n",
       "  }\n",
       "})(window);"
      ],
      "application/vnd.bokehjs_exec.v0+json": ""
     },
     "metadata": {
      "application/vnd.bokehjs_exec.v0+json": {
       "id": "5968"
      }
     },
     "output_type": "display_data"
    }
   ],
   "source": [
    "# Tabs\n",
    "\n",
    "p1 = figure(width=300, height=300)\n",
    "p1.circle([1, 2, 3, 4, 5], [6, 7, 2, 4, 5], size=20, color=\"navy\", alpha=0.5)\n",
    "\n",
    "# Tab1\n",
    "tab1 = Panel(child=p1, title=\"circle\")\n",
    "\n",
    "p2 = figure(width=300, height=300)\n",
    "p2.line([1, 2, 3, 4, 5], [6, 7, 2, 4, 5], line_width=3, color=\"navy\", alpha=0.5)\n",
    "\n",
    "# Tab2\n",
    "tab2 = Panel(child=p2, title=\"line\")\n",
    "\n",
    "show(Tabs(tabs=[tab1, tab2]))"
   ]
  },
  {
   "cell_type": "markdown",
   "id": "0e951004",
   "metadata": {},
   "source": [
    "### 2.17 Toggle\n"
   ]
  },
  {
   "cell_type": "code",
   "execution_count": 107,
   "id": "84185eb3",
   "metadata": {},
   "outputs": [
    {
     "data": {
      "text/html": [
       "\n",
       "\n",
       "\n",
       "\n",
       "\n",
       "\n",
       "  <div class=\"bk-root\" id=\"2707a518-25cf-4dda-bd3e-d32e4d01e820\" data-root-id=\"7536\"></div>\n"
      ]
     },
     "metadata": {},
     "output_type": "display_data"
    },
    {
     "data": {
      "application/javascript": [
       "(function(root) {\n",
       "  function embed_document(root) {\n",
       "    \n",
       "  const docs_json = {\"a7982646-b92a-430e-b2f4-0e54e145e2f0\":{\"defs\":[],\"roots\":{\"references\":[{\"attributes\":{\"button_type\":\"success\",\"icon\":null,\"js_property_callbacks\":{\"change:active\":[{\"id\":\"7537\"}]},\"label\":\"Foo\"},\"id\":\"7536\",\"type\":\"Toggle\"},{\"attributes\":{\"code\":\"\\n    if (this.active) {\\n        this.label = \\\"Bar\\\";\\n    }\\n    else {\\n        this.label = \\\"Foo\\\";\\n    }\\n    console.log('toggle: active=' + this.active, this.toString());\\n\"},\"id\":\"7537\",\"type\":\"CustomJS\"}],\"root_ids\":[\"7536\"]},\"title\":\"Bokeh Application\",\"version\":\"2.4.2\"}};\n",
       "  const render_items = [{\"docid\":\"a7982646-b92a-430e-b2f4-0e54e145e2f0\",\"root_ids\":[\"7536\"],\"roots\":{\"7536\":\"2707a518-25cf-4dda-bd3e-d32e4d01e820\"}}];\n",
       "  root.Bokeh.embed.embed_items_notebook(docs_json, render_items);\n",
       "\n",
       "  }\n",
       "  if (root.Bokeh !== undefined) {\n",
       "    embed_document(root);\n",
       "  } else {\n",
       "    let attempts = 0;\n",
       "    const timer = setInterval(function(root) {\n",
       "      if (root.Bokeh !== undefined) {\n",
       "        clearInterval(timer);\n",
       "        embed_document(root);\n",
       "      } else {\n",
       "        attempts++;\n",
       "        if (attempts > 100) {\n",
       "          clearInterval(timer);\n",
       "          console.log(\"Bokeh: ERROR: Unable to run BokehJS code because BokehJS library is missing\");\n",
       "        }\n",
       "      }\n",
       "    }, 10, root)\n",
       "  }\n",
       "})(window);"
      ],
      "application/vnd.bokehjs_exec.v0+json": ""
     },
     "metadata": {
      "application/vnd.bokehjs_exec.v0+json": {
       "id": "7536"
      }
     },
     "output_type": "display_data"
    }
   ],
   "source": [
    "# Toggle\n",
    "\n",
    "toggle = Toggle(label=\"Foo\", button_type=\"success\")\n",
    "toggle.js_on_click(CustomJS(code=\"\"\"\n",
    "    if (this.active) {\n",
    "        this.label = \"Bar\";\n",
    "    }\n",
    "    else {\n",
    "        this.label = \"Foo\";\n",
    "    }\n",
    "    console.log('toggle: active=' + this.active, this.toString());\n",
    "\"\"\"))\n",
    "\n",
    "show(toggle)"
   ]
  },
  {
   "cell_type": "code",
   "execution_count": null,
   "id": "b2c1bf1f",
   "metadata": {},
   "outputs": [],
   "source": []
  }
 ],
 "metadata": {
  "kernelspec": {
   "display_name": "Python 3 (ipykernel)",
   "language": "python",
   "name": "python3"
  },
  "language_info": {
   "codemirror_mode": {
    "name": "ipython",
    "version": 3
   },
   "file_extension": ".py",
   "mimetype": "text/x-python",
   "name": "python",
   "nbconvert_exporter": "python",
   "pygments_lexer": "ipython3",
   "version": "3.9.9"
  }
 },
 "nbformat": 4,
 "nbformat_minor": 5
}
